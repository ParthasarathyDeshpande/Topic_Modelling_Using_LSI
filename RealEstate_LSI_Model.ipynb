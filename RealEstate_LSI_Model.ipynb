{
 "cells": [
  {
   "cell_type": "code",
   "execution_count": 38,
   "metadata": {},
   "outputs": [],
   "source": [
    "import numpy as np\n",
    "import pandas as pd\n",
    "import matplotlib.pyplot as plt\n",
    "import seaborn as sns\n",
    "pd.set_option(\"display.max_colwidth\", 200)"
   ]
  },
  {
   "cell_type": "code",
   "execution_count": 39,
   "metadata": {},
   "outputs": [],
   "source": [
    "dataset = pd.read_excel(r'D:\\ureka\\Week-3\\RealEstate.xlsx')\n"
   ]
  },
  {
   "cell_type": "code",
   "execution_count": 40,
   "metadata": {},
   "outputs": [
    {
     "data": {
      "text/html": [
       "<div>\n",
       "<style scoped>\n",
       "    .dataframe tbody tr th:only-of-type {\n",
       "        vertical-align: middle;\n",
       "    }\n",
       "\n",
       "    .dataframe tbody tr th {\n",
       "        vertical-align: top;\n",
       "    }\n",
       "\n",
       "    .dataframe thead th {\n",
       "        text-align: right;\n",
       "    }\n",
       "</style>\n",
       "<table border=\"1\" class=\"dataframe\">\n",
       "  <thead>\n",
       "    <tr style=\"text-align: right;\">\n",
       "      <th></th>\n",
       "      <th>web_id</th>\n",
       "      <th>property_text_en</th>\n",
       "    </tr>\n",
       "  </thead>\n",
       "  <tbody>\n",
       "    <tr>\n",
       "      <td>0</td>\n",
       "      <td>7023850</td>\n",
       "      <td>Smart Business Real Estate is proud to present2Bedrooms for sale locatedat Dubai MarinaElite Residenceon mid floor over looking court yard.\\n\\nProperty currently Rentedat AED 110,000 till25 of Jun...</td>\n",
       "    </tr>\n",
       "    <tr>\n",
       "      <td>1</td>\n",
       "      <td>6905802</td>\n",
       "      <td>My Island Real Estate is proud to present 1 Bedroom Apt. in Dubai Marina with Partial Sea View\\n\\n\\nDubai Marina\\nPrincess Tower\\n1 Bedroom Apartment\\nPartial Sea View\\n922.68 sqft\\nUnfurnished Ap...</td>\n",
       "    </tr>\n",
       "    <tr>\n",
       "      <td>2</td>\n",
       "      <td>6998469</td>\n",
       "      <td>New on the market, amazing opportunity for investors. This apartment offers a spacious living room facing the sea, with 3 bedrooms with balconies, a master bedroom with en-suite bathroom, laundry ...</td>\n",
       "    </tr>\n",
       "    <tr>\n",
       "      <td>3</td>\n",
       "      <td>6766136</td>\n",
       "      <td>1 Bedroom Apartment in Marina Diamond 2\\n\\n- 1 Bedroom Apartment\\n- 572 Sq. Ft\\n- Vacant Soon\\n- Close to Metro\\n- Easy Access to Marina Walk\\n- Walking Distance to JBR\\n- Pool and Gym\\n- Referenc...</td>\n",
       "    </tr>\n",
       "    <tr>\n",
       "      <td>4</td>\n",
       "      <td>6940244</td>\n",
       "      <td>No penalty for early contract termination!&lt;br /&gt;\\n*Price varies by duration of stay:\\n12+ month lease: AED 8,000* / mo\\n6 to 12 month lease: AED 11,000* / mo\\n2 to 6 month lease: AED 12,500* / mo\\...</td>\n",
       "    </tr>\n",
       "  </tbody>\n",
       "</table>\n",
       "</div>"
      ],
      "text/plain": [
       "    web_id  \\\n",
       "0  7023850   \n",
       "1  6905802   \n",
       "2  6998469   \n",
       "3  6766136   \n",
       "4  6940244   \n",
       "\n",
       "                                                                                                                                                                                          property_text_en  \n",
       "0  Smart Business Real Estate is proud to present2Bedrooms for sale locatedat Dubai MarinaElite Residenceon mid floor over looking court yard.\\n\\nProperty currently Rentedat AED 110,000 till25 of Jun...  \n",
       "1  My Island Real Estate is proud to present 1 Bedroom Apt. in Dubai Marina with Partial Sea View\\n\\n\\nDubai Marina\\nPrincess Tower\\n1 Bedroom Apartment\\nPartial Sea View\\n922.68 sqft\\nUnfurnished Ap...  \n",
       "2  New on the market, amazing opportunity for investors. This apartment offers a spacious living room facing the sea, with 3 bedrooms with balconies, a master bedroom with en-suite bathroom, laundry ...  \n",
       "3  1 Bedroom Apartment in Marina Diamond 2\\n\\n- 1 Bedroom Apartment\\n- 572 Sq. Ft\\n- Vacant Soon\\n- Close to Metro\\n- Easy Access to Marina Walk\\n- Walking Distance to JBR\\n- Pool and Gym\\n- Referenc...  \n",
       "4  No penalty for early contract termination!<br />\\n*Price varies by duration of stay:\\n12+ month lease: AED 8,000* / mo\\n6 to 12 month lease: AED 11,000* / mo\\n2 to 6 month lease: AED 12,500* / mo\\...  "
      ]
     },
     "execution_count": 40,
     "metadata": {},
     "output_type": "execute_result"
    }
   ],
   "source": [
    "len(dataset)\n",
    "dataset.head()\n"
   ]
  },
  {
   "cell_type": "code",
   "execution_count": 41,
   "metadata": {},
   "outputs": [],
   "source": [
    "property = dataset[['property_text_en']].copy()              #Copy the column of interest 'Full title' into a different dataframe"
   ]
  },
  {
   "cell_type": "code",
   "execution_count": 42,
   "metadata": {},
   "outputs": [],
   "source": [
    "property.columns = ['property_text_en']"
   ]
  },
  {
   "cell_type": "code",
   "execution_count": 43,
   "metadata": {},
   "outputs": [
    {
     "data": {
      "text/plain": [
       "(761, 1)"
      ]
     },
     "execution_count": 43,
     "metadata": {},
     "output_type": "execute_result"
    }
   ],
   "source": [
    "property.head()\n",
    "property.shape"
   ]
  },
  {
   "cell_type": "code",
   "execution_count": 44,
   "metadata": {},
   "outputs": [
    {
     "data": {
      "text/html": [
       "<div>\n",
       "<style scoped>\n",
       "    .dataframe tbody tr th:only-of-type {\n",
       "        vertical-align: middle;\n",
       "    }\n",
       "\n",
       "    .dataframe tbody tr th {\n",
       "        vertical-align: top;\n",
       "    }\n",
       "\n",
       "    .dataframe thead th {\n",
       "        text-align: right;\n",
       "    }\n",
       "</style>\n",
       "<table border=\"1\" class=\"dataframe\">\n",
       "  <thead>\n",
       "    <tr style=\"text-align: right;\">\n",
       "      <th></th>\n",
       "      <th>property_text_en</th>\n",
       "    </tr>\n",
       "  </thead>\n",
       "  <tbody>\n",
       "    <tr>\n",
       "      <td>0</td>\n",
       "      <td>[smart, business, real, estate, proud, presentbedrooms, sale, locatedat, dubai, marinaelite, residenceon, mid, floor, looking, court, yard, n, nproperty, currently, rentedat, aed, till, june, n, n...</td>\n",
       "    </tr>\n",
       "    <tr>\n",
       "      <td>1</td>\n",
       "      <td>[island, real, estate, proud, present, bedroom, apt, dubai, marina, partial, sea, view, n, n, ndubai, marina, nprincess, tower, n, bedroom, apartment, npartial, sea, view, n, sqft, nunfurnished, a...</td>\n",
       "    </tr>\n",
       "    <tr>\n",
       "      <td>2</td>\n",
       "      <td>[new, market, amazing, opportunity, investors, apartment, offers, spacious, living, room, facing, sea, bedrooms, balconies, master, bedroom, en, suite, bathroom, laundry, room, powder, room, comes...</td>\n",
       "    </tr>\n",
       "    <tr>\n",
       "      <td>3</td>\n",
       "      <td>[bedroom, apartment, marina, diamond, n, n, bedroom, apartment, n, sq, ft, n, vacant, soon, n, close, metro, n, easy, access, marina, walk, n, walking, distance, jbr, n, pool, gym, n, reference, p...</td>\n",
       "    </tr>\n",
       "    <tr>\n",
       "      <td>4</td>\n",
       "      <td>[penalty, early, contract, termination, n, price, varies, duration, stay, n, month, lease, aed, mo, n, month, lease, aed, mo, n, month, lease, aed, mo, n, month, lease, aed, mo, n, n, prices, quot...</td>\n",
       "    </tr>\n",
       "  </tbody>\n",
       "</table>\n",
       "</div>"
      ],
      "text/plain": [
       "                                                                                                                                                                                          property_text_en\n",
       "0  [smart, business, real, estate, proud, presentbedrooms, sale, locatedat, dubai, marinaelite, residenceon, mid, floor, looking, court, yard, n, nproperty, currently, rentedat, aed, till, june, n, n...\n",
       "1  [island, real, estate, proud, present, bedroom, apt, dubai, marina, partial, sea, view, n, n, ndubai, marina, nprincess, tower, n, bedroom, apartment, npartial, sea, view, n, sqft, nunfurnished, a...\n",
       "2  [new, market, amazing, opportunity, investors, apartment, offers, spacious, living, room, facing, sea, bedrooms, balconies, master, bedroom, en, suite, bathroom, laundry, room, powder, room, comes...\n",
       "3  [bedroom, apartment, marina, diamond, n, n, bedroom, apartment, n, sq, ft, n, vacant, soon, n, close, metro, n, easy, access, marina, walk, n, walking, distance, jbr, n, pool, gym, n, reference, p...\n",
       "4  [penalty, early, contract, termination, n, price, varies, duration, stay, n, month, lease, aed, mo, n, month, lease, aed, mo, n, month, lease, aed, mo, n, month, lease, aed, mo, n, n, prices, quot..."
      ]
     },
     "execution_count": 44,
     "metadata": {},
     "output_type": "execute_result"
    }
   ],
   "source": [
    "from gensim.parsing.preprocessing import preprocess_string,strip_tags,strip_punctuation,strip_numeric,remove_stopwords\n",
    "filters=[lambda x: x.lower(),strip_tags,strip_punctuation,strip_numeric,remove_stopwords]\n",
    "property['property_text_en'] = property['property_text_en'].apply(lambda x: preprocess_string(x,filters))\n",
    "\n",
    "\n",
    "property.head() \n"
   ]
  },
  {
   "cell_type": "code",
   "execution_count": 45,
   "metadata": {},
   "outputs": [
    {
     "name": "stdout",
     "output_type": "stream",
     "text": [
      "{'ae': 0, 'aed': 1, 'appointment': 2, 'area': 3, 'available': 4, 'building': 5, 'business': 6, 'cafe': 7, 'close': 8, 'court': 9, 'currently': 10, 'desirable': 11, 'dubai': 12, 'estate': 13, 'facilities': 14, 'floor': 15, 'hotels': 16, 'ideally': 17, 'info': 18, 'information': 19, 'june': 20, 'live': 21, 'llc': 22, 'locatedat': 23, 'looking': 24, 'lots': 25, 'marina': 26, 'marinaelite': 27, 'marinais': 28, 'metro': 29, 'mid': 30, 'middle': 31, 'n': 32, 'nat': 33, 'nbrn': 34, 'ncovered': 35, 'nelite': 36, 'nemail': 37, 'nfor': 38, 'ngym': 39, 'nlandline': 40, 'norn': 41, 'npool': 42, 'nproperty': 43, 'nsecurity': 44, 'nsmart': 45, 'parking': 46, 'place': 47, 'popularand': 48, 'presentbedrooms': 49, 'proud': 50, 'real': 51, 'rentedat': 52, 'residenceis': 53, 'residenceon': 54, 'restaurants': 55, 'sale': 56, 'sbrealestate': 57, 'smart': 58, 'stationas': 59, 'stationnear': 60, 'streetfew': 61, 'surrounding': 62, 'till': 63, 'tran': 64, 'viewing': 65, 'walkpromenade': 66, 'yard': 67, 'accompany': 68, 'account': 69, 'agent': 70, 'allows': 71, 'apartment': 72, 'apartments': 73, 'apt': 74, 'atmosphere': 75, 'awe': 76, 'bedroom': 77, 'businesses': 78, 'center': 79, 'cities': 80, 'city': 81, 'com': 82, 'comes': 83, 'comparable': 84, 'cosmopolitan': 85, 'delights': 86, 'details': 87, 'developers': 88, 'developments': 89, 'east': 90, 'email': 91, 'exclusive': 92, 'free': 93, 'fully': 94, 'global': 95, 'goals': 96, 'independent': 97, 'inspiring': 98, 'investment': 99, 'investors': 100, 'invigorating': 101, 'island': 102, 'leading': 103, 'lifestyle': 104, 'myislandrealestate': 105, 'ndubai': 106, 'network': 107, 'nmy': 108, 'npartial': 109, 'nprincess': 110, 'nunfurnished': 111, 'offer': 112, 'partial': 113, 'present': 114, 'process': 115, 'project': 116, 'purchasing': 117, 'range': 118, 'rentals': 119, 'requirements': 120, 'residents': 121, 's': 122, 'sea': 123, 'spirited': 124, 'sqft': 125, 'tanweer': 126, 'tower': 127, 'unique': 128, 'unlike': 129, 'urban': 130, 'view': 131, 'villas': 132, 'water': 133, 'waterfront': 134, 'wide': 135, 'world': 136, 'z': 137, 'allocated': 138, 'amazing': 139, 'amenities': 140, 'amp': 141, 'areas': 142, 'balconies': 143, 'bathroom': 144, 'bedrooms': 145, 'burj': 146, 'contact': 147, 'district': 148, 'elevators': 149, 'en': 150, 'facing': 151, 'function': 152, 'khalifa': 153, 'laundry': 154, 'living': 155, 'located': 156, 'm': 157, 'market': 158, 'master': 159, 'nbilliard': 160, 'ncar': 161, 'nchildren': 162, 'new': 163, 'nfeatures': 164, 'nfull': 165, 'ngymnasiums': 166, 'nhigh': 167, 'nindoor': 168, 'nsauna': 169, 'nthe': 170, 'offers': 171, 'opportunity': 172, 'outdoor': 173, 'play': 174, 'pools': 175, 'powder': 176, 'princess': 177, 'residential': 178, 'room': 179, 'rooms': 180, 'skyscraper': 181, 'spacious': 182, 'speed': 183, 'story': 184, 'suite': 185, 'swimming': 186, 'table': 187, 'tall': 188, 'tallest': 189, 'tennis': 190, 'th': 191, 'uae': 192, 'access': 193, 'allsopp': 194, 'allsoppandallsopp': 195, 'alternatively': 196, 'arrange': 197, 'benefits': 198, 'brn': 199, 'condition': 200, 'daniel': 201, 'diamond': 202, 'distance': 203, 'easy': 204, 'ft': 205, 'gym': 206, 'head': 207, 'heywood': 208, 'immaculate': 209, 'jbr': 210, 'large': 211, 'mortgage': 212, 'nfinance': 213, 'nmarina': 214, 'nplease': 215, 'nthis': 216, 'offered': 217, 'office': 218, 'permit': 219, 'pjm': 220, 'pool': 221, 'property': 222, 'reference': 223, 'rera': 224, 'sales': 225, 'sauna': 226, 'services': 227, 'soon': 228, 'sq': 229, 'steam': 230, 'terrace': 231, 'transfer': 232, 'vacant': 233, 'visit': 234, 'walk': 235, 'walking': 236, 'website': 237, 'www': 238, 'applicable': 239, 'beautiful': 240, 'bespoke': 241, 'billed': 242, 'blueground': 243, 'button': 244, 'check': 245, 'cinema': 246, 'classified': 247, 'cleaning': 248, 'click': 249, 'contract': 250, 'designed': 251, 'dubai‚äôs': 252, 'duration': 253, 'dxb': 254, 'early': 255, 'earned': 256, 'eateries': 257, 'elevator': 258, 'elite': 259, 'enjoy': 260, 'entertainment': 261, 'entire': 262, 'equipped': 263, 'fall': 264, 'featuring': 265, 'feeling': 266, 'finishes': 267, 'furnished': 268, 'furnishings': 269, 'garden': 270, 'getting': 271, 'gorgeous': 272, 'greatest': 273, 'greeted': 274, 'guests': 275, 'home‚äù': 276, 'included': 277, 'includes': 278, 'indoor': 279, 'kitchen': 280, 'latest': 281, 'lease': 282, 'leases': 283, 'linens': 284, 'll': 285, 'location': 286, 'lounging': 287, 'love': 288, 'luxury': 289, 'maintenance': 290, 'mall': 291, 'mattress': 292, 'mind': 293, 'mo': 294, 'modern': 295, 'month': 296, 'months': 297, 'namenities': 298, 'narrival': 299, 'nbook': 300, 'ndesigned': 301, 'nhttps': 302, 'nideally': 303, 'nthoughtfully': 304, 'ongoing': 305, 'online': 306, 'overlooking': 307, 'penalty': 308, 'personally': 309, 'popular': 310, 'premium': 311, 'price': 312, 'prices': 313, 'private': 314, 'quality': 315, 'quoted': 316, 'requests': 317, 'residence': 318, 'rest': 319, 'restaurant': 320, 'seating': 321, 'security': 322, 'self': 323, 'shops': 324, 'situated': 325, 'source': 326, 'speaker': 327, 'stay': 328, 'streaming': 329, 'superior': 330, 'support': 331, 'taxes': 332, 'technical': 333, 'termination': 334, 'theblueground': 335, 'tv': 336, 'upfront': 337, 'utilities': 338, 'utm': 339, 'varies': 340, 'views': 341, 'wireless': 342, '‚äúi': 343, 'acting': 344, 'agents': 345, 'brokerage': 346, 'brokers': 347, 'buying': 348, 'chqs': 349, 'clients': 350, 'commercial': 351, 'companies': 352, 'company': 353, 'cost': 354, 'effective': 355, 'established': 356, 'expertise': 357, 'fastest': 358, 'freehold': 359, 'growing': 360, 'headquartered': 361, 'innovative': 362, 'k': 363, 'leasehold': 364, 'leasing': 365, 'list': 366, 'ninsight': 367, 'nowners': 368, 'npayment': 369, 'nprice': 370, 'nsize': 371, 'nwe': 372, 'objective': 373, 'planning': 374, 'portfolio': 375, 'professional': 376, 'properties': 377, 'provide': 378, 'providing': 379, 'prudence': 380, 'reliability': 381, 'reputation': 382, 'selling': 383, 'solutions': 384, 'specialise': 385, 'specialists': 386, 'team': 387, 'appliances': 388, 'balcony': 389, 'beach': 390, 'buildings': 391, 'built': 392, 'centered': 393, 'closet': 394, 'closeto': 395, 'community': 396, 'connections': 397, 'convenient': 398, 'damac': 399, 'destinations': 400, 'directly': 401, 'envied': 402, 'heart': 403, 'high': 404, 'imposing': 405, 'makes': 406, 'mina': 407, 'ncall': 408, 'neighborhoods': 409, 'nirina': 410, 'nlisting': 411, 'nsituated': 412, 'n‚ä¢': 413, 'open': 414, 'passing': 415, 'pleased': 416, 'reaches': 417, 'ready': 418, 'renowned': 419, 'road': 420, 'seyahi': 421, 'sheikh': 422, 'skydive': 423, 'sought': 424, 'statement': 425, 'station': 426, 'stations': 427, 'stop': 428, 'storey': 429, 'sufouh': 430, 'tram': 431, 'transport': 432, 'zayed': 433, 'arab': 434, 'bath': 435, 'car': 436, 'clubs': 437, 'emirates': 438, 'floors': 439, 'gfa': 440, 'gfarealestate': 441, 'gymnasium': 442, 'hall': 443, 'health': 444, 'interior': 445, 'islands': 446, 'jumeirah': 447, 'magnificent': 448, 'manmade': 449, 'metres': 450, 'napartment': 451, 'nbedroom': 452, 'nbuilt': 453, 'net': 454, 'npowder': 455, 'nselling': 456, 'nupgraded': 457, 'palm': 458, 'reception': 459, 'residences': 460, 'spas': 461, 'stands': 462, 'suited': 463, 'supertall': 464, 'united': 465, 'upgraded': 466, 'wardrobes': 467, 'windows': 468, 'accommodate': 469, 'accommodation': 470, 'air': 471, 'attractions': 472, 'bed': 473, 'central': 474, 'children': 475, 'combines': 476, 'comfort': 477, 'complete': 478, 'conditioning': 479, 'contained': 480, 'convenience': 481, 'd': 482, 'day': 483, 'depending': 484, 'dining': 485, 'd√©cor': 486, 'expect': 487, 'fi': 488, 'fitted': 489, 'flat': 490, 'home': 491, 'ihshan': 492, 'mr': 493, 'nincluded': 494, 'nprices': 495, 'nwell': 496, 'nwith': 497, 'panoramic': 498, 'people': 499, 'perfect': 500, 'provides': 501, 'sadam': 502, 'satellite': 503, 'screen': 504, 'seasons': 505, 'space': 506, 'spectacular': 507, 'vacation': 508, 'vary': 509, 'wi': 510, 'al': 511, 'away': 512, 'basement': 513, 'billiards': 514, 'bua': 515, 'childrens': 516, 'comprises': 517, 'deck': 518, 'forest': 519, 'ground': 520, 'including': 521, 'jacuzzi': 522, 'landmarks': 523, 'levels': 524, 'luxurious': 525, 'madinat': 526, 'maintained': 527, 'moments': 528, 'neighbourhoods': 529, 'njust': 530, 'nmarketing': 531, 'passes': 532, 'penthouse': 533, 'podium': 534, 'prominent': 535, 'recreation': 536, 'rent': 537, 'semi': 538, 'st': 539, 'standing': 540, 'style': 541, 'adjacent': 542, 'bathrooms': 543, 'duplex': 544, 'fantastic': 545, 'feet': 546, 'great': 547, 'internet': 548, 'jlt': 549, 'local': 550, 'maids': 551, 'negotiable': 552, 'plus': 553, 'prime': 554, 'proximity': 555, 'reliance': 556, 'rob': 557, 'sort': 558, 'square': 559, 'storage': 560, 'affordable': 561, 'completed': 562, 'consists': 563, 'decent': 564, 'developed': 565, 'diamonds': 566, 'excellent': 567, 'gate': 568, 'handed': 569, 'include': 570, 'known': 571, 'links': 572, 'lounge': 573, 'major': 574, 'nbalcony': 575, 'nbuilding': 576, 'nclose': 577, 'nspacious': 578, 'nvacant': 579, 'nvisit': 580, 'option': 581, 'owners': 582, 'plan': 583, 'projects': 584, 'purchase': 585, 'ranging': 586, 'rental': 587, 'representing': 588, 'respective': 589, 'retail': 590, 'returns': 591, 'roi': 592, 'shop': 593, 'small': 594, 'studios': 595, 'total': 596, 'towers': 597, 'units': 598, 'vital': 599, 'advertisement': 600, 'best': 601, 'block': 602, 'broker': 603, 'care': 604, 'club': 605, 'delivered': 606, 'desk': 607, 'end': 608, 'fattan': 609, 'graded': 610, 'group': 611, 'highest': 612, 'hour': 613, 'investments': 614, 'launched': 615, 'marine': 616, 'nbusiness': 617, 'ncenter': 618, 'ndeveloped': 619, 'needs': 620, 'nelectronic': 621, 'ngames': 622, 'njacuzzi': 623, 'nlobby': 624, 'nmulti': 625, 'nnursery': 626, 'nprestige': 627, 'ntitle': 628, 'nwas': 629, 'ofmarina': 630, 'playroom': 631, 'prestige': 632, 'purpose': 633, 'service': 634, 'strives': 635, 'tameer': 636, 'type': 637, 'value': 638, 'viewings': 639, 'arabian': 640, 'boasts': 641, 'briefly': 642, 'cafes': 643, 'class': 644, 'cloak': 645, 'course': 646, 'delighted': 647, 'e': 648, 'entrance': 649, 'example': 650, 'golf': 651, 'highly': 652, 'hms': 653, 'hmshomes': 654, 'hole': 655, 'homes': 656, 'joshua': 657, 'kept': 658, 'lake': 659, 'licensed': 660, 'like': 661, 'lovely': 662, 'maintain': 663, 'nal': 664, 'nhms': 665, 'nif': 666, 'nupstairs': 667, 'outstanding': 668, 'plot': 669, 'quiet': 670, 'ranches': 671, 'reem': 672, 'row': 673, 'salons': 674, 'sharing': 675, 'single': 676, 'smith': 677, 'specialist': 678, 'study': 679, 'touch': 680, 'town': 681, 'utility': 682, 'advanced': 683, 'april': 684, 'aqua': 685, 'architecture': 686, 'association': 687, 'billiard': 688, 'cctv': 689, 'comprising': 690, 'covered': 691, 'design': 692, 'development': 693, 'finished': 694, 'house': 695, 'international': 696, 'jacuzzis': 697, 'kids': 698, 'landscaped': 699, 'layout': 700, 'management': 701, 'mixture': 702, 'monitored': 703, 'multi': 704, 'naqua': 705, 'ndescription': 706, 'outlets': 707, 'playing': 708, 'presents': 709, 'proudly': 710, 'turnkey': 711, 'unusual': 712, 'victorian': 713, 'according': 714, 'boutique': 715, 'carved': 716, 'coffee': 717, 'dishwasher': 718, 'extraordinary': 719, 'generating': 720, 'gulf': 721, 'highways': 722, 'kilometer': 723, 'largest': 724, 'main': 725, 'malls': 726, 'ncontact': 727, 'number': 728, 'options': 729, 'public': 730, 'quickly': 731, 'realty': 732, 'resorts': 733, 'searches': 734, 'selection': 735, 'shoreline': 736, 'skyscrapers': 737, 'sotheby': 738, 'star': 739, 'stretch': 740, 'today': 741, 'tourist': 742, 'transportation': 743, 'user': 744, 'wardrobe': 745, 'arguably': 746, 'atkins': 747, 'attractive': 748, 'awards': 749, 'benchmark': 750, 'collected': 751, 'commands': 752, 'considered': 753, 'consisting': 754, 'dedicated': 755, 'eighth': 756, 'exclusively': 757, 'eye': 758, 'famous': 759, 'ferris': 760, 'future': 761, 'interiors': 762, 'kca': 763, 'le': 764, 'luxhabitat': 765, 'nit': 766, 'nle': 767, 'penthouses': 768, 'position': 769, 'possesses': 770, 'presidential': 771, 'regional': 772, 'reve': 773, 'rich': 774, 'royal': 775, 'sector': 776, 'seven': 777, 'steals': 778, 'stunning': 779, 'super': 780, 'superb': 781, 'target': 782, 'vistas': 783, 'wheel': 784, 'wish': 785, 'wonder': 786, 'bars': 787, 'boat': 788, 'br': 789, 'bus': 790, 'estateoffer': 791, 'ferry': 792, 'mena': 793, 'nabout': 794, 'ndetails': 795, 'nlocated': 796, 'rented': 797, 'retails': 798, 'shopping': 799, 'size': 800, 'supermarkets': 801, 'unfurnished': 802, 'upscale': 803, 'ain': 804, 'ajman': 805, 'arabia': 806, 'branches': 807, 'cheques': 808, 'china': 809, 'deposit': 810, 'driven': 811, 'drivers': 812, 'expert': 813, 'extra': 814, 'family': 815, 'grown': 816, 'hours': 817, 'internal': 818, 'manages': 819, 'nbrought': 820, 'nsince': 821, 'nunit': 822, 'n‚óè': 823, 'platforms': 824, 'region': 825, 'r√™ve': 826, 'saudi': 827, 'serene': 828, 'throughmultiple': 829, 'valet': 830, 'weekends': 831, '¬†': 832, 'bay': 833, 'brought': 834, 'hundreds': 835, 'jumairah': 836, 'nali': 837, 'namongst': 838, 'noffice': 839, 'oxford': 840, 'pillars': 841, 'short': 842, 'unit': 843, 'abbas': 844, 'anytime': 845, 'barasti': 846, 'carry': 847, 'dinning': 848, 'direct': 849, 'disposal': 850, 'foremor': 851, 'highlights': 852, 'maritime': 853, 'minute': 854, 'nearby': 855, 'nsports': 856, 'possible': 857, 'quick': 858, 'recreational': 859, 'rentedk': 860, 'separate': 861, 'shared': 862, 'whatsapp': 863, 'alvin': 864, 'called': 865, 'communal': 866, 'concierge': 867, 'couple': 868, 'developer': 869, 'holding': 870, 'mins': 871, 'near': 872, 'nstunning': 873, 'standard': 874, 'worlds': 875, 'sc': 876, 'september': 877, 'year': 878, 'additional': 879, 'art': 880, 'bar': 881, 'breakfast': 882, 'bright': 883, 'chris': 884, 'fee': 885, 'furthermore': 886, 'guest': 887, 'haus': 888, 'hausandhaus': 889, 'integrated': 890, 'nbroker': 891, 'nhaus': 892, 'nspread': 893, 'recommended': 894, 'spec': 895, 'state': 896, 'thebedroom': 897, 'toilet': 898, 'banker': 899, 'coldwell': 900, 'coldwellbanker': 901, 'districts': 902, 'emirate': 903, 'formal': 904, 'greens': 905, 'naddress': 906, 'nfacilities': 907, 'njacuzzis': 908, 'nlandscaped': 909, 'notice': 910, 'nplaying': 911, 'nprivate': 912, 'nrera': 913, 'nretail': 914, 'nwebsite': 915, 'onyx': 916, 'orn': 917, 'phone': 918, 'book': 919, 'bulk': 920, 'comfortable': 921, 'different': 922, 'distance¬†to': 923, 'gulfinvestre': 924, 'invest': 925, 'katrina': 926, 'media': 927, 'multiple': 928, 'ncompany': 929, 'ni': 930, 'nkatrina': 931, 'nother': 932, 'nto': 933, 'parkingcar': 934, 'results': 935, 'status': 936, 'stock': 937, 'szr': 938, 'view¬†': 939, 'want': 940, '¬†shared': 941, 'agency': 942, 'box': 943, 'dld': 944, 'fax': 945, 'fees': 946, 'g': 947, 'grosvenor': 948, 'naed': 949, 'narea': 950, 'nbilliards': 951, 'nchildren‚äôs': 952, 'ngymnasium': 953, 'noc': 954, 'np': 955, 'nred': 956, 'nswimming': 957, 'ntel': 958, 'nview': 959, 'nwww': 960, 'o': 961, 'redstonebrokers': 962, 'stone': 963, 'tenanted': 964, 'trustee': 965, 'vat': 966, 'ensuite': 967, 'features': 968, 'functional': 969, 'sizeable': 970, 'storeys': 971, 'areeb': 972, 'beds': 973, 'cars': 974, 'centre': 975, 'downstairs': 976, 'extremely': 977, 'ndownstairs': 978, 'ap': 979, 'aston': 980, 'astonpearlre': 981, 'buyers': 982, 'downtown': 983, 'good': 984, 'kenan': 985, 'landlords': 986, 'lettingscommercial': 987, 'lettingsproperty': 988, 'listed': 989, 'miss': 990, 'mobile': 991, 'naston': 992, 'ndirect': 993, 'park': 994, 'pearl': 995, 'r': 996, 'salesbuildings': 997, 'sellers': 998, 'servicesinternational': 999, 'servicesmortgage': 1000, 'servicesreal': 1001, 'sold': 1002, 't': 1003, 'tenants': 1004, 'time': 1005, 'valuation': 1006, 'approximately': 1007, 'corner': 1008, 'elegant': 1009, 'espace': 1010, 'gated': 1011, 'gives': 1012, 'life': 1013, 'lobby': 1014, 'managed': 1015, 'plaza': 1016, 'prestigious': 1017, 'tastefully': 1018, 'welcoming': 1019, 'airport': 1020, 'basis': 1021, 'beachand': 1022, 'cheaper': 1023, 'complimentary': 1024, 'curved': 1025, 'door': 1026, 'equipment': 1027, 'experience': 1028, 'fabulous': 1029, 'flexible': 1030, 'fountain': 1031, 'furniture': 1032, 'globally': 1033, 'guaranteed': 1034, 'hi': 1035, 'http': 1036, 'https': 1037, 'inquiries': 1038, 'keeping': 1039, 'keysplease': 1040, 'linen': 1041, 'longer': 1042, 'monthly': 1043, 'monthsaed': 1044, 'nkey': 1045, 'nlocation': 1046, 'nmonth': 1047, 'nservices': 1048, 'nstay': 1049, 'nwalking': 1050, 'nôçß': 1051, 'pick': 1052, 'ranked': 1053, 'rate': 1054, 'satisfaction': 1055, 'sleeping': 1056, 'stays': 1057, 'towel': 1058, 'wa': 1059, 'week': 1060, 'weekly': 1061, 'accessibility': 1062, 'arranged': 1063, 'august': 1064, 'ceiling': 1065, 'games': 1066, 'keller': 1067, 'landlord': 1068, 'motivated': 1069, 'observation': 1070, 'offering': 1071, 'prior': 1072, 'provided': 1073, 'tenant': 1074, 'underground': 1075, 'williams': 1076, 'aesthetic': 1077, 'backdrop': 1078, 'canal': 1079, 'description': 1080, 'emaar': 1081, 'ends': 1082, 'illustrative': 1083, 'kind': 1084, 'million': 1085, 'ncommunity': 1086, 'nnote': 1087, 'nstatus': 1088, 'pictures': 1089, 'rises': 1090, 'riviera': 1091, 'serves': 1092, 'set': 1093, 'setting': 1094, 'similar': 1095, 'spanning': 1096, 'template': 1097, 'additionally': 1098, 'better': 1099, 'betterhomes': 1100, 'bhomes': 1101, 'connected': 1102, 'hand': 1103, 'looping': 1104, 'mohamed': 1105, 'moustafa': 1106, 'need': 1107, 'opens': 1108, 'runs': 1109, 'use': 1110, 'dacha': 1111, 'extensive': 1112, 'female': 1113, 'ideal': 1114, 'light': 1115, 'male': 1116, 'ndacha': 1117, 'professionals': 1118, 'slot': 1119, 'supports': 1120, 'working': 1121, '‚ä¢': 1122, 'cooking': 1123, 'dear': 1124, 'feel': 1125, 'fighting': 1126, 'gas': 1127, 'nas': 1128, 'navailable': 1129, 'nchiller': 1130, 'nfire': 1131, 'nfreshly': 1132, 'nvery': 1133, 'painted': 1134, 'resort': 1135, 'valued': 1136, 'accommodations': 1137, 'b': 1138, 'catering': 1139, 'cheque': 1140, 'drive': 1141, 'feature': 1142, 'fridge': 1143, 'minutes': 1144, 'nall': 1145, 'namazing': 1146, 'nbua': 1147, 'ncozy': 1148, 'nguests': 1149, 'nwhatsapp': 1150, 'shower': 1151, 'site': 1152, 'stove': 1153, 'wifi': 1154, 'basements': 1155, 'bhk': 1156, 'cando': 1157, 'chance': 1158, 'combining': 1159, 'deal': 1160, 'duplexes': 1161, 'hesitate': 1162, 'ncando': 1163, 'ndon': 1164, 'nhuge': 1165, 'nhurryyyy': 1166, 'nyou': 1167, 'onwww': 1168, 'outlet': 1169, 'personal': 1170, 'purposes': 1171, 'shahrukh': 1172, 'upppp': 1173, 'boasting': 1174, 'closed': 1175, 'immaculately': 1176, 'maid': 1177, 'maid‚äôs': 1178, 'nnew': 1179, 'accessible': 1180, 'accompanied': 1181, 'allocation': 1182, 'approach': 1183, 'arcangeli': 1184, 'arranging': 1185, 'assist': 1186, 'based': 1187, 'delivery': 1188, 'ejari': 1189, 'ensure': 1190, 'level': 1191, 'marcello': 1192, 'marketing': 1193, 'nmobile': 1194, 'nour': 1195, 'nursery': 1196, 'nyour': 1197, 'order': 1198, 'p': 1199, 'properly': 1200, 'prospecting': 1201, 'reach': 1202, 'registration': 1203, 'repair': 1204, 'satisfied': 1205, 'special': 1206, 'specialized': 1207, 'standards': 1208, 'successful': 1209, 'tenancy': 1210, 'work': 1211, 'yourplace': 1212, 'areaa': 1213, 'big': 1214, 'board': 1215, 'covering': 1216, 'degrees': 1217, 'library': 1218, 'line': 1219, 'party': 1220, 'schedule': 1221, 'schools': 1222, 'spa': 1223, 'spaces': 1224, 'wonderful': 1225, 'chiller': 1226, 'compromises': 1227, 'double': 1228, 'dub': 1229, 'interested': 1230, 'martyn': 1231, 'ntenants': 1232, 'spot': 1233, 'taking': 1234, 'tyana': 1235, 'willis': 1236, 'abd': 1237, 'cardio': 1238, 'dive': 1239, 'dry': 1240, 'foosball': 1241, 'hockey': 1242, 'machines': 1243, 'ncentrally': 1244, 'obg': 1245, 'sky': 1246, 'slides': 1247, 'toys': 1248, 'weights': 1249, 'avoid': 1250, 'bbq': 1251, 'cabinetry': 1252, 'closets': 1253, 'crafted': 1254, 'custom': 1255, 'immediate': 1256, 'layouts': 1257, 'liya': 1258, 'missing': 1259, 'propertiesis': 1260, 'thoughtful': 1261, 'combine': 1262, 'face': 1263, 'hallway': 1264, 'hello': 1265, 'interesting': 1266, 'jogging': 1267, 'nprimary': 1268, 'nwhen': 1269, 'prestigedubai': 1270, 'residencewhich': 1271, 'store': 1272, 'thanks': 1273, 'thing': 1274, 'track': 1275, 'utensils': 1276, 'way': 1277, 'carrefour': 1278, 'children‚äôs': 1279, 'man': 1280, 'neighboring': 1281, 'sports': 1282, 'bring': 1283, 'choice': 1284, 'cogent': 1285, 'combined': 1286, 'courtyards': 1287, 'customers': 1288, 'discuss': 1289, 'distinct': 1290, 'generous': 1291, 'giving': 1292, 'help': 1293, 'knowledgeable': 1294, 'landscape': 1295, 'narabian': 1296, 'ncogent': 1297, 'ntype': 1298, 'poonam': 1299, 'pride': 1300, 'terraces': 1301, 'tranquil': 1302, 'truly': 1303, 'villa': 1304, 'village': 1305, 'years': 1306, 'cafeterias': 1307, 'european': 1308, 'exhilarating': 1309, 'lap': 1310, 'lot': 1311, 'numbers': 1312, 'opus': 1313, 'shiekh': 1314, 'wooden': 1315, 'zaid': 1316, 'artwork': 1317, 'begin': 1318, 'common': 1319, 'continue': 1320, 'decor': 1321, 'marble': 1322, 'paneled': 1323, 'consist': 1324, 'daily': 1325, 'fascinating': 1326, 'gravity': 1327, 'newly': 1328, 'yacht': 1329, 'zero': 1330, 'childrenus': 1331, 'definitely': 1332, 'finish': 1333, 'impression': 1334, 'khail': 1335, 'leave': 1336, 'rise': 1337, 'routes': 1338, 'strategically': 1339, 'stylish': 1340, 'sothebys': 1341, 'communities': 1342, 'customercare': 1343, 'dubais': 1344, 'housing': 1345, 'neighbourhood': 1346, 'october': 1347, 'peaceful': 1348, 'seeking': 1349, 'suites': 1350, 'base': 1351, 'building‚äùguinness': 1352, 'chq': 1353, 'encompassessix': 1354, 'enters': 1355, 'guinness': 1356, 'nbathroom': 1357, 'nbedrooms': 1358, 'nfloor': 1359, 'nkitchen': 1360, 'nparking': 1361, 'officially': 1362, 'recognized': 1363, 'records': 1364, 'skyline': 1365, 'staggering': 1366, 'stores': 1367, 'tameer‚äôs': 1368, 'tip': 1369, 'towering': 1370, 'world‚äôstallest': 1371, '‚äútallest': 1372, 'alarm': 1373, 'allowing': 1374, 'apparel': 1375, 'charm': 1376, 'clear': 1377, 'connects': 1378, 'countertops': 1379, 'emulates': 1380, 'entertain': 1381, 'fittings': 1382, 'flooring': 1383, 'grade': 1384, 'guarantees': 1385, 'half': 1386, 'invites': 1387, 'look': 1388, 'na': 1389, 'necessary': 1390, 'nmnt': 1391, 'parquet': 1392, 'requires': 1393, 'sophisticated': 1394, 'systems': 1395, 'tasteful': 1396, 'technology': 1397, 'advisory': 1398, 'banks': 1399, 'ncomplimentary': 1400, 'partnerships': 1401, 'yes': 1402, 'addendums': 1403, 'and¬†': 1404, 'conditions¬†': 1405, 'customer': 1406, 'elegantly': 1407, 'furnished¬†': 1408, 'gafor': 1409, 'huge': 1410, 'l': 1411, 'maintenance¬†': 1412, 'marketing¬†l': 1413, 'neast': 1414, 'oriented': 1415, 'property¬†': 1416, 'services¬†': 1417, 'tailor': 1418, 'tenants¬†': 1419, 'terms': 1420, 'visibility': 1421, 'aviation': 1422, 'beaches': 1423, 'consultant': 1424, 'countries': 1425, 'demanding': 1426, 'engel': 1427, 'finishing': 1428, 'juia': 1429, 'leisure': 1430, 'lukanova': 1431, 'nengel': 1432, 'offices': 1433, 'specializing': 1434, 'supermarket': 1435, 'voelkers': 1436, 'white': 1437, 'yachts': 1438, 'attitude': 1439, 'buy': 1440, 'caring': 1441, 'ensuites': 1442, 'especially': 1443, 'focus': 1444, 'genuine': 1445, 'nconcierge': 1446, 'nheart': 1447, 'nhow': 1448, 'nincluding': 1449, 'nlooking': 1450, 'nmanagement': 1451, 'nplace': 1452, 'nright': 1453, 'nshared': 1454, 'nshoaib': 1455, 'nspecializing': 1456, 'nthroughout': 1457, 'nvillas': 1458, 'nwelcome': 1459, 'operative': 1460, 'precise': 1461, 'renting': 1462, 'right': 1463, 'screening': 1464, 'shoaib': 1465, 'swimmingpool': 1466, 'townhouses': 1467, 'arabic': 1468, 'atm': 1469, 'barsha': 1470, 'charge': 1471, 'choose': 1472, 'english': 1473, 'harbour': 1474, 'heights': 1475, 'inside': 1476, 'language': 1477, 'marriott': 1478, 'meridien': 1479, 'minutesu': 1480, 'nattention': 1481, 'nexciting': 1482, 'nfind': 1483, 'nheight': 1484, 'nm': 1485, 'nservice': 1486, 'nt': 1487, 'nwhy': 1488, 'nwrite': 1489, 'operations': 1490, 'persian': 1491, 'pharmacy': 1492, 'russian': 1493, 'shafar': 1494, 'speak': 1495, 'speaks': 1496, 'tecom': 1497, 'turkish': 1498, 'upgrade': 1499, 'wealthinproperties': 1500, 'x': 1501, 'illustration': 1502, 'nasking': 1503, 'shown': 1504, '‚äì': 1505, 'arsal': 1506, 'higherfloor': 1507, 'industrial': 1508, 'jumeriah': 1509, 'nsns': 1510, 'recently': 1511, 'actual': 1512, 'aibek': 1513, 'avenue': 1514, 'commenced': 1515, 'completion': 1516, 'following': 1517, 'fourth': 1518, 'handing': 1519, 'january': 1520, 'nbig': 1521, 'note': 1522, 'nsqft': 1523, 'sabirakunov': 1524, 'battuta': 1525, 'hubs': 1526, 'ibn': 1527, 'immediately': 1528, 'know': 1529, 'ndid': 1530, 'nshopping': 1531, 'nwithin': 1532, 'ocean': 1533, 'overlooks': 1534, 'paradises': 1535, 'pear': 1536, 'regration': 1537, 'visitors': 1538, 'chantelle': 1539, 'it‚äôs': 1540, 'nchantelle': 1541, 'ajwa': 1542, 'andopposite': 1543, 'callajmal': 1544, 'collection': 1545, 'commonpool': 1546, 'groundfloor': 1547, 'iswalking': 1548, 'npls': 1549, 'owner': 1550, 'referred': 1551, 'sell': 1552, 'sft': 1553, 'throughajwa': 1554, 'descriptions': 1555, 'elevetors': 1556, 'mob': 1557, 'nintroduction': 1558, 'nmob': 1559, 'nreraorn': 1560, 'nvostok': 1561, 'trampclose': 1562, 'vostokrealestate': 1563, 'ahmad': 1564, 'amenitie': 1565, 'cleaned': 1566, 'freshly': 1567, 'medial': 1568, 'nmasroor': 1569, 'nthose': 1570, 'reserved': 1571, 'studio': 1572, 'assistance': 1573, 'calm': 1574, 'conditions': 1575, 'dewa': 1576, 'dynamic': 1577, 'exciting': 1578, 'flourishing': 1579, 'iconic': 1580, 'ndisplay': 1581, 'night': 1582, 'nkindly': 1583, 'nrising': 1584, 'serenity': 1585, 'surrounded': 1586, 'wonders': 1587, 'ziarat': 1588, 'bathtub': 1589, 'channels': 1590, 'conditioned': 1591, 'environment': 1592, 'freezer': 1593, 'holiday': 1594, 'lcd': 1595, 'oven': 1596, 'playground': 1597, 'serviced': 1598, 'nrent': 1599, 'advantages': 1600, 'awaiting': 1601, 'bathroomsfully': 1602, 'breezes': 1603, 'camelia': 1604, 'chic': 1605, 'districtuae': 1606, 'dream': 1607, 'exclusivity': 1608, 'exhilaration': 1609, 'facility': 1610, 'flooded': 1611, 'floorssea': 1612, 'fresh': 1613, 'interiorbuilt': 1614, 'lifestyles': 1615, 'lotsmaids': 1616, 'meticulously': 1617, 'owning': 1618, 'painting': 1619, 'planned': 1620, 'poolupgraded': 1621, 'refreshed': 1622, 'rewards': 1623, 'roomprivate': 1624, 'savoye': 1625, 'sitting': 1626, 'sun': 1627, 'unobstructed': 1628, 'vibrancy': 1629, 'viewbank': 1630, 'walls': 1631, 'wardrobesmarble': 1632, 'bldg': 1633, 'nf': 1634, 'npermit': 1635, 'nrustar': 1636, 'pinnacle': 1637, 'rustardubai': 1638, 'abode': 1639, 'addition': 1640, 'dazzling': 1641, 'julia': 1642, 'paid': 1643, 'sized': 1644, 'voynich': 1645, 'blending': 1646, 'buzz': 1647, 'energetic': 1648, 'laid': 1649, 'nstanding': 1650, 'series': 1651, 'tranquility': 1652, 'citys': 1653, 'dubairesidentialadmin': 1654, 'integral': 1655, 'inventory': 1656, 'moored': 1657, 'ncurrently': 1658, 'receive': 1659, 'savills': 1660, 'vibrant': 1661, 'nsea': 1662, 'cakir': 1663, 'scenic': 1664, 'amidst': 1665, 'astounding': 1666, 'condominiums': 1667, 'implies': 1668, 'measuring': 1669, 'non': 1670, 'second': 1671, 'seek': 1672, 'smoking': 1673, 'vacationers': 1674, 'abodeproperty': 1675, 'absolute': 1676, 'availability': 1677, 'create': 1678, 'deed': 1679, 'difference': 1680, 'energized': 1681, 'enter': 1682, 'facts': 1683, 'fitness': 1684, 'hotel': 1685, 'internationally': 1686, 'moment': 1687, 'nbars': 1688, 'nbuying': 1689, 'nexecutive': 1690, 'noutdoor': 1691, 'nspa': 1692, 'nwyndham': 1693, 'recognise': 1694, 'refresh': 1695, 'reserve': 1696, 'rooftop': 1697, 'scheme': 1698, 'soak': 1699, 'spirit': 1700, 'split': 1701, 'title': 1702, 'wyndham': 1703, 'emily': 1704, 'seaview': 1705, 'nbarbeque': 1706, 'ncomes': 1707, 'nfitted': 1708, 'nmid': 1709, 'nnear': 1710, 'npalm': 1711, 'nshould': 1712, 'promises': 1713, 'questions': 1714, 'scale': 1715, 'waters': 1716, 'bm': 1717, 'breath': 1718, 'browser': 1719, 'copy': 1720, 'german': 1721, 'link': 1722, 'paste': 1723, 'spaciouspenthouse': 1724, 'tour': 1725, 'virtual': 1726, 'wp': 1727, 'aa': 1728, 'attached': 1729, 'bashar': 1730, 'bicycling': 1731, 'bin': 1732, 'cabinet': 1733, 'comprise': 1734, 'enclave': 1735, 'expansive': 1736, 'far': 1737, 'gardens': 1738, 'geust': 1739, 'happy': 1740, 'having': 1741, 'incorporates': 1742, 'intersect': 1743, 'mohd': 1744, 'ng': 1745, 'nupper': 1746, 'opened': 1747, 'rd': 1748, 'salon': 1749, 'sheick': 1750, 'spanish': 1751, 'townhous': 1752, 'tracks': 1753, 'wall': 1754, 'ample': 1755, 'asking': 1756, 'long': 1757, 'loungers': 1758, 'metropolis': 1759, 'nadir': 1760, 'nadirshah': 1761, 'nvanguard': 1762, 'shah': 1763, 'vanguard': 1764, 'appreciated': 1765, 'cloakroom': 1766, 'downstair': 1767, 'join': 1768, 'pathway': 1769, 'seen': 1770, 'starter': 1771, 'townhouse': 1772, 'wood': 1773, 'aerobics': 1774, 'exceeds': 1775, 'grand': 1776, 'h': 1777, 'markets': 1778, 'ntower': 1779, 'resident': 1780, 'reveal': 1781, 'beautifully': 1782, 'craig': 1783, 'entertaining': 1784, 'excited': 1785, 'garage': 1786, 'leads': 1787, 'making': 1788, 'mandich': 1789, 'nbeautiful': 1790, 'ndouble': 1791, 'nimmaculate': 1792, 'paved': 1793, 'perfectly': 1794, 'secluded': 1795, 'sizable': 1796, 'treo': 1797, 'upmarket': 1798, 'upstairs': 1799, 'clean': 1800, 'conall': 1801, 'doors': 1802, 'landscaping': 1803, 'patio': 1804, 'abid': 1805, 'cupboard': 1806, 'easthomes': 1807, 'nahmad': 1808, 'natural': 1809, 'nhighlights': 1810, 'nresidence': 1811, 'taken': 1812, 'viewas': 1813, 'yahoo': 1814, 'zaeem': 1815, 'alike': 1816, 'boats': 1817, 'bridges': 1818, 'busy': 1819, 'cafxes': 1820, 'charter': 1821, 'cyclists': 1822, 'diversity': 1823, 'highlight': 1824, 'loops': 1825, 'runners': 1826, 'running': 1827, 'social': 1828, 'takes': 1829, 'walkers': 1830, 'aspects': 1831, 'astro': 1832, 'ball': 1833, 'basket': 1834, 'cards': 1835, 'chat': 1836, 'come': 1837, 'current': 1838, 'days': 1839, 'department': 1840, 'experienced': 1841, 'finance': 1842, 'fresco': 1843, 'friday': 1844, 'gazebo': 1845, 'history': 1846, 'horses': 1847, 'hunters': 1848, 'lands': 1849, 'laws': 1850, 'learn': 1851, 'means': 1852, 'mortgages': 1853, 'nhouse': 1854, 'opening': 1855, 'opposite': 1856, 'original': 1857, 'pass': 1858, 'planters': 1859, 'pm': 1860, 'preferred': 1861, 'reg': 1862, 'register': 1863, 'regulations': 1864, 'result': 1865, 'stairs': 1866, 'trail': 1867, 'trained': 1868, 'turf': 1869, 'turn': 1870, 'understandable': 1871, 'cooker': 1872, 'heated': 1873, 'machine': 1874, 'minimum': 1875, 'refrigerator': 1876, 'servicing': 1877, 'spread': 1878, 'steps': 1879, 'washing': 1880, 'word': 1881, 'believe': 1882, 'linking': 1883, 'max': 1884, 'admin': 1885, 'boulevard': 1886, 'choosing': 1887, 'green': 1888, 'kgr': 1889, 'kgrrealestate': 1890, 'lakes': 1891, 'laundries': 1892, 'lush': 1893, 'mirchandani': 1894, 'mosque': 1895, 'nfully': 1896, 'nkgr': 1897, 'nlarge': 1898, 'nname': 1899, 'nphone': 1900, 'parks': 1901, 'places': 1902, 'rakesh': 1903, 'required': 1904, 'saloons': 1905, 'thank': 1906, 'useful': 1907, 'comprehensive': 1908, 'creatively': 1909, 'diner': 1910, 'generously': 1911, 'host': 1912, 'nalso': 1913, 'nfantastic': 1914, 'nurseries': 1915, 'outside': 1916, 'relax': 1917, 'varieties': 1918, 'c': 1919, 'knowledge': 1920, 'lovelysea': 1921, 'ncorner': 1922, 'nis': 1923, 'nseagull': 1924, 'ntenanted': 1925, 'thorough': 1926, 'years‚äô': 1927, 'neasy': 1928, 'nessa': 1929, 'thirdtallest': 1930, 'backing': 1931, 'courts': 1932, 'external': 1933, 'families': 1934, 'mature': 1935, 'presented': 1936, 'share': 1937, 'stroll': 1938, 'wc': 1939, 'aspect': 1940, 'binayah': 1941, 'displayed': 1942, 'id': 1943, 'london': 1944, 'muscat': 1945, 'nbinayah': 1946, 'searching': 1947, 'securing': 1948, 'toll': 1949, 'able': 1950, 'active': 1951, 'asked': 1952, 'blended': 1953, 'catch': 1954, 'everyday': 1955, 'f': 1956, 'hr': 1957, 'mentioned': 1958, 'nather': 1959, 'presenting': 1960, 'queries': 1961, 'rectangular': 1962, 'swift': 1963, 'vicinity': 1964, 'attracting': 1965, 'brand': 1966, 'broad': 1967, 'nice': 1968, 'nmohamed': 1969, 'profile': 1970, 'recognised': 1971, 'solid': 1972, 'thousands': 1973, 'uaes': 1974, 'unrivalled': 1975, 'variety': 1976, 'welcome': 1977, 'arash': 1978, 'kindlycontactus': 1979, 'n‚ä¢business': 1980, 'n‚ä¢center': 1981, 'n‚ä¢children': 1982, 'n‚ä¢games': 1983, 'n‚ä¢indoor': 1984, 'n‚ä¢jacuzzi': 1985, 'n‚ä¢lobby': 1986, 'n‚ä¢multi': 1987, 'n‚ä¢nursery': 1988, 'n‚ä¢sauna': 1989, 'buyer': 1990, 'hudson': 1991, 'low': 1992, 'nallsopp': 1993, 'prospective': 1994, 'ryan': 1995, 'term': 1996, 'armani': 1997, 'bagno': 1998, 'covers': 1999, 'exceptionally': 2000, 'experts': 2001, 'fine': 2002, 'floored': 2003, 'glass': 2004, 'guarantee': 2005, 'gypsum': 2006, 'hob': 2007, 'indirect': 2008, 'italian': 2009, 'italy': 2010, 'microwave': 2011, 'ngypsum': 2012, 'nitalian': 2013, 'nporshe': 2014, 'rain': 2015, 'refined': 2016, 'sanitary': 2017, 'sinks': 2018, 'sotheby‚äôs': 2019, 'taps': 2020, 'trendy': 2021, 'u': 2022, 'warranty': 2023, 'world‚äôs': 2024, 'gross': 2025, 'nequipped': 2026, 'nfurnished': 2027, 'nk': 2028, 'sergei': 2029, 'build': 2030, 'championship': 2031, 'coastal': 2032, 'courses': 2033, 'dressing': 2034, 'golden': 2035, 'higher': 2036, 'impressive': 2037, 'lie': 2038, 'midas': 2039, 'midasdubai': 2040, 'nmidas': 2041, 'nmrs': 2042, 'nsuman': 2043, 'nthank': 2044, 'rajpal': 2045, 'rear': 2046, 'suman': 2047, 'empires': 2048, 'focused': 2049, 'income': 2050, 'mix': 2051, 'waterways': 2052, 'abdulai': 2053, 'allies': 2054, 'baths': 2055, 'gymn': 2056, 'kindly': 2057, 'ndld': 2058, 'nrental': 2059, 'packing': 2060, 'specialistabdulai': 2061, 'categories': 2062, 'classifications': 2063, 'classifies': 2064, 'condominium': 2065, 'criteria': 2066, 'data': 2067, 'filter': 2068, 'lookup': 2069, 'methodology': 2070, 'nlookup': 2071, 'relevant': 2072, 'section': 2073, 'sub': 2074, 'tab': 2075, 'ultra': 2076, 'bein': 2077, 'neat': 2078, 'pharmacies': 2079, 'saloon': 2080, 'excess': 2081, 'nzaeem': 2082, 'alex': 2083, 'castles': 2084, 'castlesplaza': 2085, 'castllesplaza': 2086, 'advice': 2087, 'bedroomprincess': 2088, 'committed': 2089, 'efficient': 2090, 'jvt': 2091, 'mail': 2092, 'meadows': 2093, 'meet': 2094, 'nand': 2095, 'ndear': 2096, 'ngood': 2097, 'nhelp': 2098, 'nhonest': 2099, 'njumana': 2100, 'npunctual': 2101, 'orientation': 2102, 'post': 2103, 'potential': 2104, 'preferences': 2105, 'related': 2106, 'specialization': 2107, 'speedy': 2108, 'springs': 2109, 'tools': 2110, 'try': 2111, 'understand': 2112, 'circle': 2113, 'consideration': 2114, 'cricket': 2115, 'daffodil': 2116, 'exposure': 2117, 'gmail': 2118, 'handle': 2119, 'jvc': 2120, 'nadmin': 2121, 'protected': 2122, 'rights': 2123, 'sobha': 2124, 'sonia': 2125, 'soniayourhomes': 2126, 'specialize': 2127, 'stadium': 2128, 'targeted': 2129, 'tel': 2130, 'yourhomes': 2131, 'groceries': 2132, 'sns': 2133, 'snsprop': 2134, 'ac': 2135, 'acidic': 2136, 'adriana': 2137, 'annum': 2138, 'dedicatedly': 2139, 'deep': 2140, 'delivering': 2141, 'easier': 2142, 'firm': 2143, 'grouting': 2144, 'hassle': 2145, 'inclusive': 2146, 'letting': 2147, 'limited': 2148, 'manicured': 2149, 'nbeautifully': 2150, 'ndwp': 2151, 'nlandlord': 2152, 'nnewly': 2153, 'ntwo': 2154, 'ntypee': 2155, 'package': 2156, 'paint': 2157, 'refurbished': 2158, 'respected': 2159, 'silicon': 2160, 'start': 2161, 'estimate': 2162, 'app': 2163, 'atlantis': 2164, 'atomic': 2165, 'atomicer': 2166, 'cake': 2167, 'costing': 2168, 'exit': 2169, 'finding': 2170, 'king': 2171, 'manage': 2172, 'managing': 2173, 'millionaires': 2174, 'multimillionaires': 2175, 'natomic': 2176, 'piece': 2177, 'produce': 2178, 'response': 2179, 'staff': 2180, 'vision': 2181, 'butt': 2182, 'deja': 2183, 'dejavuproperties': 2184, 'meters': 2185, 'subhan': 2186, 'vu': 2187, 'zones': 2188, 'cozy': 2189, 'discover': 2190, 'mattresses': 2191, 'ngorgeous': 2192, 'simply': 2193, 'towels': 2194, 'abundance': 2195, 'aren‚äôt': 2196, 'booming': 2197, 'commitment': 2198, 'complemented': 2199, 'doorstep': 2200, 'driver‚äôs': 2201, 'expo': 2202, 'gears': 2203, 'individuals': 2204, 'industry': 2205, 'liking': 2206, 'montgomerie': 2207, 'neighborhood': 2208, 'particular': 2209, 'perks': 2210, 'permanent': 2211, 'reside': 2212, 'sits': 2213, 'unmatched': 2214, 'ali': 2215, 'gymnasiums': 2216, 'maqsood': 2217, 'nnearby': 2218, 'nnight': 2219, 'nrestaurants': 2220, 'nschool': 2221, 'nsheikh': 2222, 'alfresco': 2223, 'contemporary': 2224, 'designs': 2225, 'fixtures': 2226, 'materials': 2227, 'money': 2228, 'optimum': 2229, 'sourced': 2230, 'thiswell': 2231, 'visualized': 2232, 'dont': 2233, 'lettings': 2234, 'priced': 2235, 'cooler': 2236, 'destination': 2237, 'enchanting': 2238, 'key': 2239, 'luggage': 2240, 'myriad': 2241, 'nightlife': 2242, 'reason': 2243, 'stylishly': 2244, 'westin': 2245, 'goods': 2246, 'left': 2247, 'ngreat': 2248, 'rare': 2249, 'change': 2250, 'coming': 2251, 'cultural': 2252, 'destined': 2253, 'encompassessixbasement': 2254, 'furnitures': 2255, 'given': 2256, 'hands': 2257, 'land': 2258, 'luxuryapartments': 2259, 'napartments': 2260, 'nhousing': 2261, 'nlevels': 2262, 'occupies': 2263, 'precedent': 2264, 'puts': 2265, 'rapidly': 2266, 'sprawling': 2267, 'venues': 2268, 'andmanaged': 2269, 'sqm': 2270, 'approx': 2271, 'classy': 2272, 'education': 2273, 'exceptional': 2274, 'flexibility': 2275, 'guidance': 2276, 'ii': 2277, 'navenue': 2278, 'nhitesh': 2279, 'nmiddle': 2280, 'nnet': 2281, 'nrented': 2282, 'nviewing': 2283, 'return': 2284, 'tidy': 2285, 'tolani': 2286, 'understanding': 2287, 'affluent': 2288, 'aproperties': 2289, 'budget': 2290, 'bustling': 2291, 'centers': 2292, 'changes': 2293, 'cheerful': 2294, 'elegance': 2295, 'filled': 2296, 'graceful': 2297, 'hidden': 2298, 'mohammad': 2299, 'mustafa': 2300, 'pretty': 2301, 'significant': 2302, 'string': 2303, 'sums': 2304, 'treasures': 2305, 'wants': 2306, 'cheque‚äôs': 2307, 'baker': 2308, 'desert': 2309, 'finch': 2310, 'form': 2311, 'hardscaped': 2312, 'ian': 2313, 'july': 2314, 'maximum': 2315, 'plenty': 2316, 'primary': 2317, 'privacy': 2318, 'school': 2319, 'secondary': 2320, 'slava': 2321, 'speaking': 2322, 'allow': 2323, 'brings': 2324, 'completely': 2325, 'douglas': 2326, 'jason': 2327, 'touches': 2328, 'conveyancing': 2329, 'listing': 2330, 'research': 2331, 'roots': 2332, 'december': 2333, 'developer‚äôs': 2334, 'escapes': 2335, 'nproject': 2336, 'opportunities': 2337, 'purchases': 2338, 'resale': 2339, 'worth': 2340, 'yazdi': 2341, 'zahra': 2342, 'candour': 2343, 'candourproperty': 2344, 'detection': 2345, 'jandu': 2346, 'kamaldeep': 2347, 'ncandour': 2348, '¬†the': 2349, 'controlled': 2350, 'curtains': 2351, 'inch': 2352, 'modernly': 2353, 'remote': 2354, 'shaped': 2355, 'sofa': 2356, 'degree': 2357, 'nactual': 2358, 'nenjoy': 2359, 'nluxury': 2360, 'nmaids': 2361, 'nstore': 2362, 'nstudy': 2363, 'parkings': 2364, 'sunsets': 2365, 'breathtaking': 2366, 'multipurpose': 2367, 'brief': 2368, 'james': 2369, 'nin': 2370, 'parker': 2371, 'web': 2372, 'empirehfbb': 2373, 'payment': 2374, 'drifting': 2375, 'moves': 2376, 'nadditional': 2377, 'npolo': 2378, 'pace': 2379, 'path': 2380, 'riding': 2381, 'theme': 2382, 'themed': 2383, 'traditional': 2384, 'trails': 2385, 'benefit': 2386, 'comprised': 2387, 'equestrian': 2388, 'grab': 2389, 'grounds': 2390, 'nicest': 2391, 'polo': 2392, 'redefines': 2393, 'secure': 2394, 'changing': 2395, 'fullest': 2396, 'nfax': 2397, 'nive': 2398, 'nsuite': 2399, 'seller': 2400, 'princesstower': 2401, 'rentin': 2402, 'unfurnishedavailable': 2403, 'flair': 2404, 'freshness': 2405, 'adam': 2406, 'entering': 2407, 'vehicles': 2408, 'famously': 2409, 'married': 2410, 'gyms': 2411, 'incredible': 2412, 'senior': 2413, 'almond': 2414, 'finda': 2415, 'nupon': 2416, 'surface': 2417, 'estateis': 2418, 'nhigher': 2419, 'nminutes': 2420, 'nmuhammad': 2421, 'diamondcityre': 2422, 'license': 2423, 'nded': 2424, 'nmr': 2425, 'zama': 2426, 'andalusia': 2427, 'appreciate': 2428, 'batutta': 2429, 'described': 2430, 'egypt': 2431, 'india': 2432, 'julie': 2433, 'ncommon': 2434, 'nin¬†dubai': 2435, 'nlovely': 2436, 'persia': 2437, 'tunisia': 2438, '¬†near': 2439, 'budgets': 2440, 'centrally': 2441, 'continually': 2442, 'exemplary': 2443, 'featured': 2444, 'guard': 2445, 'jebel': 2446, 'maintains': 2447, 'nestablished': 2448, 'notable': 2449, 'nthese': 2450, 'receptionist': 2451, 'strive': 2452, 'suit': 2453, 'types': 2454, 'watch': 2455, 'widewayrealestate': 2456, 'zone': 2457, 'consistently': 2458, 'infrastructure': 2459, 'ngolf': 2460, 'population': 2461, 'portals': 2462, 'ranks': 2463, 'remington': 2464, 'ndistressed': 2465, 'architectural': 2466, 'reflects': 2467, 'adorned': 2468, 'body': 2469, 'bowed': 2470, 'broken': 2471, 'corners': 2472, 'counterparts': 2473, 'discernible': 2474, 'emerging': 2475, 'facade': 2476, 'formula': 2477, 'gently': 2478, 'inset': 2479, 'lavishly': 2480, 'lined': 2481, 'nlike': 2482, 'punctuated': 2483, 'region‚äôs': 2484, 'sections': 2485, 'balcony‚äôs': 2486, 'bluewaters': 2487, 'conveniently': 2488, 'min': 2489, 'nconsidered': 2490, 'nexclusively': 2491, 'nthere': 2492, 'ph': 2493, 'phrealestate': 2494, 'round': 2495, 'stretching': 2496, 'holds': 2497, 'instance': 2498, 'ndistinction': 2499, 'njustified': 2500, 'nmoment': 2501, 'nover': 2502, 'nresidential': 2503, 'ntameer‚äôs': 2504, 'president': 2505, 'saidfederico': 2506, 'saying': 2507, 'tauber': 2508, 'tower‚äúthis': 2509, 'twin': 2510, '‚äù': 2511, '‚äúthis': 2512, 'abdul': 2513, 'fixed': 2514, 'nmore': 2515, 'nremoved': 2516, 'nroom': 2517, 'removed': 2518, 'samad': 2519, 'washroom': 2520, 'annual': 2521, 'cafs': 2522, 'enjoys': 2523, 'address': 2524, 'diversified': 2525, 'reputed': 2526, 'rising': 2527, 'universities': 2528, 'npictures': 2529, 'nfront': 2530, 'nstones': 2531, 'sat': 2532, 'stones': 2533, 'stonesglobal': 2534, 'thu': 2535, 'alhilalhomes': 2536, 'hilal': 2537, 'kumar': 2538, 'nchandan': 2539, 'vieiwng': 2540, 'appeal': 2541, 'bayut': 2542, 'deluxe': 2543, 'electronic': 2544, 'fun': 2545, 'matrina': 2546, 'occasions': 2547, 'photos': 2548, 'voted': 2549, 'young': 2550, 'laidback': 2551, 'faheem': 2552, 'khan': 2553, 'nmohammd': 2554, 'ed': 2555, 'eduard': 2556, 'imex': 2557, 'imexre': 2558, 'pricncess': 2559, 'veiw': 2560, 'karipova': 2561, 'sophia': 2562, 'ability': 2563, 'adorn': 2564, 'amenity': 2565, 'andrew': 2566, 'automated': 2567, 'butler': 2568, 'captivating': 2569, 'chauffeur': 2570, 'construction': 2571, 'controls': 2572, 'cutting': 2573, 'doorman': 2574, 'driver': 2575, 'edge': 2576, 'expenses': 2577, 'faucet': 2578, 'federer': 2579, 'ferrari': 2580, 'flow': 2581, 'helicopter': 2582, 'jet': 2583, 'leila': 2584, 'lighting': 2585, 'limousine': 2586, 'multimedia': 2587, 'occupied': 2588, 'pfeiffer': 2589, 'picked': 2590, 'press': 2591, 'roger': 2592, 'spared': 2593, 'superstar': 2594, 'temperature': 2595, 'vanities': 2596, 'wasn‚äôt': 2597, 'actively': 2598, 'clubhouse': 2599, 'commute': 2600, 'forms': 2601, 'nlive': 2602, 'nvarious': 2603, 'sept': 2604, 'traded': 2605, 'workplace': 2606, 'acres': 2607, 'consultants': 2608, 'enquiries': 2609, 'forbes': 2610, 'hussain': 2611, 'jibran': 2612, 'massive': 2613, 'nrocky': 2614, 'rocky': 2615, 'rockyrealestate': 2616, 'saturday': 2617, 'sunday': 2618, 'thursday': 2619, 'american': 2620, 'demanded': 2621, 'galina': 2622, 'heard': 2623, 'meeting': 2624, 'nthisapartment': 2625, 'university': 2626, 'cash': 2627, 'compliant': 2628, 'jess': 2629, 'vastu': 2630, 'blowing': 2631, 'javaid': 2632, 'ms': 2633, 'sadaf': 2634, 'communications': 2635, 'concern': 2636, 'emergency': 2637, 'helps': 2638, 'nasir': 2639, 'nsafety': 2640, 'occupy': 2641, 'prevent': 2642, 'program': 2643, 'protection': 2644, 'safety': 2645, 'suppression': 2646, 'tech': 2647, 'threats': 2648, 'valco': 2649, 'apple': 2650, 'bills': 2651, 'broadband': 2652, 'crockery': 2653, 'cutlery': 2654, 'electricity': 2655, 'issues': 2656, 'kennedytowers': 2657, 'lines': 2658, 'master‚äôs': 2659, 'nd': 2660, 'ntowering': 2661, 'ps': 2662, 'stories': 2663, 'television': 2664, 'nsaunas': 2665, 'securities': 2666, 'arrangement': 2667, 'century': 2668, 'centurydubai': 2669, 'floor¬†': 2670, 'georgia': 2671, 'postmodern': 2672, 'presence': 2673, 'space¬†': 2674, 'specialising': 2675, 'locations': 2676, 'manager': 2677, 'placed': 2678, 'reporting': 2679, 'representation': 2680, 'allotted': 2681, 'answered': 2682, 'appello': 2683, 'bedrom': 2684, 'display': 2685, 'drop': 2686, 'excuse': 2687, 'sms': 2688, 'oak': 2689, 'partially': 2690, 'stainless': 2691, 'steel': 2692, 'british': 2693, 'investor': 2694, 'remain': 2695, 'advantage': 2696, 'bustle': 2697, 'ferdinand': 2698, 'going': 2699, 'noise': 2700, 'ntake': 2701, 'obi': 2702, 'step': 2703, 'streets': 2704, 'stress': 2705, 'amir': 2706, 'compromised': 2707, 'concentrating': 2708, 'constant': 2709, 'deliver': 2710, 'finally': 2711, 'formalities': 2712, 'generated': 2713, 'guide': 2714, 'hamza': 2715, 'involved': 2716, 'nlow': 2717, 'nprime': 2718, 'past': 2719, 'recommendations': 2720, 'record': 2721, 'staffs': 2722, 'suitable': 2723, 'wings': 2724, 'baidoo': 2725, 'seth': 2726, 'nkids': 2727, 'nopen': 2728, 'advertised': 2729, 'case': 2730, 'dutta': 2731, 'element': 2732, 'hitesh': 2733, 'npics': 2734, 'viewed': 2735, 'whats': 2736, 'beginning': 2737, 'instant': 2738, 'kid': 2739, 'nagents': 2740, 'sheik': 2741, 'attention': 2742, 'benefiting': 2743, 'constructed': 2744, 'consultancy': 2745, 'created': 2746, 'designer': 2747, 'esteemed': 2748, 'marvel': 2749, 'monument': 2750, 'neighbor': 2751, 'n‚äã': 2752, 'responsible': 2753, 'striking': 2754, 'vip': 2755, 'vips': 2756, 'xtreme': 2757, 'xv': 2758, 'kilometre': 2759, 'dealing': 2760, 'hills': 2761, 'nfhey': 2762, 'beachfront': 2763, 'cameras': 2764, 'carpark': 2765, 'gear': 2766, 'hallways': 2767, 'locker': 2768, 'nany': 2769, 'nautomated': 2770, 'nchange': 2771, 'nchildrens': 2772, 'nhot': 2773, 'nhurry': 2774, 'nlifts': 2775, 'nroof': 2776, 'ntypical': 2777, 'nunderground': 2778, 'showers': 2779, 'training': 2780, 'weight': 2781, 'ndmcc': 2782, 'sup': 2783, 'appointed': 2784, 'ivana': 2785, 'november': 2786, 'partners': 2787, 'borders': 2788, 'dtcm': 2789, 'harmony': 2790, 'kissed': 2791, 'liveliest': 2792, 'loft': 2793, 'nneighbourhood': 2794, 'n‚ä¢air': 2795, 'n‚ä¢built': 2796, 'n‚ä¢cctv': 2797, 'n‚ä¢covered': 2798, 'n‚ä¢gym': 2799, 'n‚ä¢nearby': 2800, 'n‚ä¢restaurants': 2801, 'n‚ä¢swimming': 2802, 'n‚ä¢tv': 2803, 'oceanic': 2804, 'pure': 2805, 'seaand': 2806, 'ninfo': 2807, 'nshades': 2808, 'shades': 2809, 'shadesproperties': 2810, 'ascot': 2811, 'bedroom¬†': 2812, 'contact¬†': 2813, 'cupboards': 2814, 'nen': 2815, 'nmaid‚äôs': 2816, 'nplot': 2817, 'interspersed': 2818, 'luke': 2819, 'sets': 2820, 'shed': 2821, 'shrubs': 2822, 'street': 2823, 'trees': 2824, 'aspirational': 2825, 'brands': 2826, 'diamond¬†is': 2827, 'fashion': 2828, 'funished': 2829, 'in¬†dubai': 2830, 'leasable': 2831, 'linked': 2832, 'mega': 2833, 'nibn': 2834, 'n¬†': 2835, 'sight': 2836, '¬†chiller': 2837, '¬†close': 2838, '¬†community': 2839, '¬†fully': 2840, '¬†is': 2841, '¬†marina': 2842, '¬†with': 2843, 'extended': 2844, 'jan': 2845, 'porch': 2846, 'accordingly': 2847, 'chestertons': 2848, 'cooper': 2849, 'cruises': 2850, 'dealt': 2851, 'dinner': 2852, 'duba': 2853, 'encircled': 2854, 'evening': 2855, 'favorite': 2856, 'glide': 2857, 'joggers': 2858, 'numerous': 2859, 'professionally': 2860, 'promenade': 2861, 'sit': 2862, 'strollers': 2863, 'sunset': 2864, 'youll': 2865, 'nina': 2866, 'pekina': 2867, 'frontage': 2868, 'length': 2869, 'littered': 2870, 'valoran': 2871, 'maison': 2872, 'mathis': 2873, 'overlooked': 2874, 'ultimate': 2875, 'camalon': 2876, 'cornerstone': 2877, 'decisions': 2878, 'equip': 2879, 'informed': 2880, 'jade': 2881, 'keys': 2882, 'limit': 2883, 'partly': 2884, 'po': 2885, 'skys': 2886, 'unlock': 2887, 'venture': 2888, 'youre': 2889, 'zmg': 2890, 'arrangements': 2891, 'billard': 2892, 'certificate': 2893, 'consumption': 2894, 'establishments': 2895, 'nagency': 2896, 'ndewa': 2897, 'nejari': 2898, 'nplayground': 2899, 'nsteam': 2900, 'ntable': 2901, 'ntram': 2902, 'posted': 2903, 'readily': 2904, 'refundable': 2905, 'ana': 2906, 'bedroomapartment': 2907, 'caf√©s': 2908, 'commuters': 2909, 'equipedkitchen': 2910, 'interchange': 2911, 'nelte': 2912, 'residencelocated': 2913, 'separated': 2914, 'spasious': 2915, 'stars': 2916, 'taxi': 2917, 'tourists': 2918, 'boards': 2919, 'contain': 2920, 'entirely': 2921, 'fast': 2922, 'lights': 2923, 'lived': 2924, 'n‚ñ∫': 2925, 'n‚ñ∫built': 2926, 'n‚ñ∫fully': 2927, 'n‚ñ∫mid': 2928, 'n‚ñ∫modern': 2929, 'n‚ñ∫palm': 2930, 'n‚ñ∫vacant': 2931, 'n‚ô¶‚ô¶': 2932, 'renovated': 2933, 'renovation': 2934, 'rgs': 2935, 'w': 2936, 'bellow': 2937, 'choices': 2938, 'clarification': 2939, 'favorable': 2940, 'general': 2941, 'madinath': 2942, 'ngarvin': 2943, 'nonly': 2944, 'npositive': 2945, 'query': 2946, 'samaroo': 2947, 'straightforward': 2948, 'vehicle': 2949, 'withmaid': 2950, 'classical': 2951, 'impeccable': 2952, 'progressing': 2953, 'safe': 2954, 'barari': 2955, 'estates': 2956, 'extension': 2957, 'victory': 2958, 'definite': 2959, 'trade': 2960, 'continues': 2961, 'owned': 2962, 'qredubai': 2963, 'quantum': 2964, 'run': 2965, 'cox': 2966, 'forever': 2967, 'cameron': 2968, 'completing': 2969, 'enclosed': 2970, 'heating': 2971, 'let': 2972, 'ncomprising': 2973, 'noutside': 2974, 'occupancy': 2975, 'whilst': 2976, 'farid': 2977, 'karimov': 2978, 'lets': 2979, 'nevery': 2980, 'true': 2981, 'driveway': 2982, 'nback': 2983, 'nicely': 2984, 'nlandscape': 2985, 'welcomes': 2986, 'skyland': 2987, 'aed¬†': 2988, 'capable': 2989, 'composed': 2990, 'creative': 2991, 'friends': 2992, 'hardworking': 2993, 'homeowner': 2994, 'honest': 2995, 'inspired': 2996, 'marina¬†': 2997, 'nbelieve': 2998, 'nclients': 2999, 'nof': 3000, 'nomid': 3001, 'omid': 3002, 'organization': 3003, 'rahimi': 3004, 'selected': 3005, 'spend': 3006, 'strongly': 3007, 'theater': 3008, 'tower¬†': 3009, 'webiste': 3010, '¬†and': 3011, '¬†in': 3012, '¬†looking': 3013, '¬†views': 3014, 'cosy': 3015, 'accent': 3016, 'beauty': 3017, 'bliss': 3018, 'creates': 3019, 'easily': 3020, 'excludes': 3021, 'indoors': 3022, 'nbigger': 3023, 'nresort': 3024, 'outdoors': 3025, 'permeates': 3026, 'pervades': 3027, 'plots': 3028, 'primed': 3029, 'provident': 3030, 'queen': 3031, 'rough': 3032, 'apply': 3033, 'friendly': 3034, 'npet': 3035, 'pet': 3036, 'things': 3037, 'achieve': 3038, 'acquisition': 3039, 'disposition': 3040, 'facilitate': 3041, 'overtaken': 3042, 'platform': 3043, 'toweris': 3044, 'versed': 3045, 'worldwide': 3046, 'york': 3047, 'nready': 3048, 'nremote': 3049, 'nspringfield': 3050, 'rasheed': 3051, 'springfield': 3052, 'usman': 3053, 'estateproudly': 3054, 'allowed': 3055, 'pets': 3056, 'appointments': 3057, 'essentials': 3058, 'nagent': 3059, 'naghmeh': 3060, 'natm': 3061, 'nseven': 3062, 'nsupermarket': 3063, 'sevencentury': 3064, 'weekend': 3065, 'abu': 3066, 'dhabi': 3067, 'gcc': 3068, 'olagunju': 3069, 'samson': 3070, 'uaeus': 3071, 'unrivaled': 3072, 'edwards': 3073, 'edwardsandtowers': 3074, 'introduced': 3075, 'adults': 3076, 'aquaventure': 3077, 'breaking': 3078, 'finest': 3079, 'haven': 3080, 'itus': 3081, 'kidsu': 3082, 'shady': 3083, 'ski': 3084, 'slope': 3085, 'youngsters': 3086, 'gt': 3087, 'nbetter': 3088, 'nmany': 3089, 'chauffeurs': 3090, 'essence': 3091, 'noble': 3092, 'pls': 3093, 'requiring': 3094, 'tnh': 3095, 'applicants': 3096, 'chains': 3097, 'distant': 3098, 'extend': 3099, 'fintan': 3100, 'highpoint': 3101, 'jazqucci': 3102, 'ncome': 3103, 'sunbathing': 3104, 'unhindered': 3105, 'tram¬†': 3106, 'baby': 3107, 'charges': 3108, 'cot': 3109, 'dirham': 3110, 'doesn‚äôt': 3111, 'gel': 3112, 'housekeeping': 3113, 'kettle': 3114, 'message': 3115, 'nsmoking': 3116, 'request': 3117, 'shampoo': 3118, 'soap': 3119, 'subject': 3120, 'tea': 3121, 'toaster': 3122, 'tourism': 3123, 'bigger': 3124, 'combination': 3125, 'dininghall': 3126, 'estaterera': 3127, 'evangeline': 3128, 'garcia': 3129, 'lay': 3130, 'reduced': 3131, 'activities': 3132, 'afroz': 3133, 'cable': 3134, 'chain': 3135, 'complex': 3136, 'craft': 3137, 'cruise': 3138, 'deyaar': 3139, 'gymnasiium': 3140, 'intercom': 3141, 'packed': 3142, 'pop': 3143, 'sandy': 3144, 'satelite': 3145, 'skiing': 3146, 'skydiving': 3147, 'stretches': 3148, 'tabani': 3149, 'tabanirealestate': 3150, 'waterside': 3151, 'ambulatory': 3152, 'black': 3153, 'clinic': 3154, 'cube': 3155, 'dental': 3156, 'jumeira': 3157, 'medical': 3158, 'morgan‚äôs': 3159, 'nhospitals': 3160, 'nschools': 3161, 'ntransport': 3162, 'palace': 3163, 'specious': 3164, 'sweet': 3165, 'tender': 3166, 'tlc': 3167, 'wellcare': 3168, 'delightful': 3169, 'kempton': 3170, 'naccommodation': 3171, 'robert': 3172, 'stone‚äôs': 3173, 'throw': 3174, 'commanding': 3175, 'proportioned': 3176, 'concerned': 3177, 'nforest': 3178, 'profitable': 3179, 'auction': 3180, 'legal': 3181, 'nacknowledgment': 3182, 'ntotal': 3183, 'participate': 3184, 'participation': 3185, 'physical': 3186, 'bahar': 3187, 'checks': 3188, 'currenthighest': 3189, 'novel': 3190, 'novelproperties': 3191, 'respond': 3192, 'nunits': 3193, 'separately': 3194, 'lifts': 3195, 'maskan': 3196, 'nlaundry': 3197, 'quarter': 3198, 'suggests': 3199, 'sunken': 3200, 'lewis': 3201, 'on¬†': 3202, 'desire': 3203, 'enjoyed': 3204, 'improvements': 3205, 'uncompromising': 3206, 'provider': 3207, 'charming': 3208, 'floorings': 3209, 'inviting': 3210, 'landmark': 3211, 'lit': 3212, 'lives': 3213, 'nsophisticated': 3214, 'personalities': 3215, 'tucked': 3216, 'warm': 3217, 'ncommonpool': 3218, 'nforproperty': 3219, 'ngroundfloor': 3220, 'nroad': 3221, 'nshop': 3222, 'owneryou': 3223, 'cooling': 3224, 'height': 3225, 'ncooling': 3226, 'atiq': 3227, 'clover': 3228, 'ndeposit': 3229, 'nowner': 3230, 'nun': 3231, 'rahman': 3232, 'ur': 3233, 'amounts': 3234, 'architrave': 3235, 'assistant': 3236, 'belongings': 3237, 'considerable': 3238, 'conventional': 3239, 'exquisite': 3240, 'exudes': 3241, 'lift': 3242, 'nfrom': 3243, 'nthrough': 3244, 'opulence': 3245, 'opulent': 3246, 'pantry': 3247, 'polished': 3248, 'sophistication': 3249, 'vast': 3250, 'jaccuzzi': 3251, 'orweekends': 3252, 'rooom': 3253, 'citadel': 3254, 'drehomes': 3255, 'mudassir': 3256, 'ndrehomes': 3257, 'nenquiry': 3258, 'wani': 3259, 'andpalm': 3260, 'cinemas': 3261, 'nsingle': 3262, 'ziaratfor': 3263, 'admire': 3264, 'contactyour': 3265, 'hut': 3266, 'kodjou': 3267, 'nasteco': 3268, 'ofthis': 3269, 'sheikhzayed': 3270, 'specialistcollins': 3271, 'abdine': 3272, 'bey': 3273, 'matters': 3274, 'propfolio': 3275, 'rania': 3276, 'withappliances': 3277, 'banqueting': 3278, 'dooa': 3279, 'exercise': 3280, 'functioning': 3281, 'harminder': 3282, 'nfamily': 3283, 'tcre': 3284, 'addresses': 3285, 'express': 3286, 'aldhaheri': 3287, 'are¬†ejari': 3288, 'certificates': 3289, 'certified': 3290, 'country': 3291, 'cultivated': 3292, 'decades': 3293, 'dramatic': 3294, 'enthusiastic': 3295, 'establishment': 3296, 'field': 3297, 'forward': 3298, 'founded': 3299, 'individual': 3300, 'jaffreyon': 3301, 'leader': 3302, 'licenses': 3303, 'mentality': 3304, 'middleeast': 3305, 'mohammed': 3306, 'newcomers': 3307, 'oldest': 3308, 'omar': 3309, 'operate': 3310, 'operating': 3311, 'portrays': 3312, 'registered': 3313, 'relationships': 3314, 'successfully': 3315, 'transition': 3316, 'trust': 3317, 'contactforest': 3318, 'remotely': 3319, 'sony': 3320, 'theatre': 3321, 'n‚ñ∫low': 3322, 'n‚ñ∫partial': 3323, 'adding': 3324, 'appropriate': 3325, 'dreams': 3326, 'helped': 3327, 'identifying': 3328, 'intent': 3329, 'nearly': 3330, 'pre': 3331, 'predubai': 3332, 'search': 3333, 'served': 3334, 'tremendous': 3335, 'yielding': 3336, 'biggest': 3337, 'football': 3338, 'cheapest': 3339, 'inquiry': 3340, 'nsp': 3341, 'nwonderful': 3342, 'pics': 3343, 'shall': 3344, 'advantageously': 3345, 'avenues': 3346, 'berthing': 3347, 'majority': 3348, 'rewarding': 3349, 'sheltered': 3350, 'umar': 3351, 'upp': 3352, 'abbos': 3353, 'jon': 3354, 'nwhatapp': 3355, 'safarov': 3356, 'hales': 3357, 'converted': 3358, 'entry': 3359, 'partition': 3360, 'radisson': 3361, 'sas': 3362, 'traffic': 3363, 'daralaqar': 3364, 'jawad': 3365, 'muhammad': 3366, 'nbathrooms': 3367, 'connecting': 3368, 'lavish': 3369, 'remarkable': 3370, 'represents': 3371, 'r√é¬™ve': 3372, 'spaced': 3373, 'sweeping': 3374, 'cabinets': 3375, 'hallwithbalcony': 3376, 'joined': 3377, 'overhead': 3378, 'relaxing': 3379, 'window': 3380, 'penthouse‚äì': 3381, 'enjoying': 3382, 'lower': 3383, 'noccupying': 3384, 'tub': 3385, 'extends': 3386, 'friendliness': 3387, 'marsa': 3388, 'nunique': 3389, 'uniquely': 3390, 'bobur': 3391, 'mln': 3392, 'noffering': 3393, 'providentestate': 3394, 'shamsidinov': 3395, 'diner¬†': 3396, 'garden¬†': 3397, 'location¬†': 3398, 'nattractive': 3399, 'nlake': 3400, 'now¬†': 3401, 'azur': 3402, 'umair': 3403, 'asteco': 3404, 'carries': 3405, 'cater': 3406, 'cred': 3407, 'crowd': 3408, 'nfrench': 3409, 'treatment': 3410, 'artificial': 3411, 'mile': 3412, 'nsemi': 3413, 'outloet': 3414, 'vostok': 3415, 'accommodationupstairs': 3416, 'cared': 3417, 'completes': 3418, 'lead': 3419, 'lovingly': 3420, 'matured': 3421, 'vanity': 3422, 'electric': 3423, 'nideal': 3424, 'propert': 3425, 'species': 3426, 'acre': 3427, 'apart': 3428, 'demand': 3429, 'elements': 3430, 'fakir': 3431, 'gazelle': 3432, 'generic': 3433, 'grace': 3434, 'greenery': 3435, 'incorporate': 3436, 'loai': 3437, 'modernity': 3438, 'ngazelle': 3439, 'nwhat': 3440, 'pesa': 3441, 'startling': 3442, 'surroundings': 3443, 'mazzotta': 3444, 'positioned': 3445, 'sam': 3446, 'samuel': 3447, 'biz': 3448, 'nrus': 3449, 'ntoll': 3450, 'rusbizrealestate': 3451, 'isthe': 3452, 'centrepiece': 3453, 'corridor': 3454, 'expanding': 3455, 'gets': 3456, 'hosts': 3457, 'installed': 3458, 'introduce': 3459, 'looks': 3460, 'mean': 3461, 'neighbour': 3462, 'prayer': 3463, 'showing': 3464, 'shrine': 3465, 'smells': 3466, 'staycation': 3467, 'unwanted': 3468, 'contains': 3469, 'jumierah': 3470, 'parts': 3471, 'habtoor': 3472, 'items': 3473, 'julian': 3474, 'ncommunal': 3475, 'nexcellent': 3476, 'nopposite': 3477, 'nout': 3478, 'optional': 3479, 'remove': 3480, 'spinneys': 3481, 'atms': 3482, 'batuta': 3483, 'bound': 3484, 'executive': 3485, 'exits': 3486, 'nearest': 3487, 'nprocessing': 3488, 'nzenner': 3489, 'zenner': 3490, 'facilitates': 3491, 'dotted': 3492, 'game': 3493, 'grocery': 3494, 'idea': 3495, 'katie': 3496, 'nest': 3497, 'north': 3498, 'pilates': 3499, 'remainder': 3500, 'savage': 3501, 'south': 3502, 'steamroom': 3503, 'tire': 3504, 'yoga': 3505, 'audio': 3506, 'fond': 3507, 'furnishing': 3508, 'visual': 3509, 'maintened': 3510, 'bays': 3511, 'holdingsin': 3512, 'occupation': 3513, 'ncallmr': 3514, 'marinawith': 3515, 'oportunity': 3516, 'commerce': 3517, 'commuting': 3518, 'equippedgym': 3519, 'exclusivelinks': 3520, 'gathering': 3521, 'nsome': 3522, 'route': 3523, 'airy': 3524, 'arts': 3525, 'clock': 3526, 'dilanka': 3527, 'npo': 3528, 'tamani': 3529, 'vera': 3530, 'verare': 3531, 'fingers': 3532, 'reasonable': 3533, 'slip': 3534, 'sough': 3535, 'stunningly': 3536, 'arabianescapes': 3537, 'ck': 3538, 'cks': 3539, 'lourdes': 3540, 'nfeature': 3541, 'phillips': 3542, 'breeze': 3543, 'cup': 3544, 'kazibwe': 3545, 'opal': 3546, 'swaying': 3547, 'valorem': 3548, 'vincent': 3549, 'waking': 3550, 'widest': 3551, 'kristina': 3552, 'partila': 3553, 'recommend': 3554, 'nmassive': 3555, 'walks': 3556, 'abbi': 3557, 'ranches¬†': 3558, 'richards': 3559, 'encompasses': 3560, 'jamiz': 3561, 'jum': 3562, 'nabove': 3563, 'nbarsha': 3564, 'nnoc': 3565, 'nvibgyor': 3566, 'backs': 3567, 'costa': 3568, 'earliest': 3569, 'houses': 3570, 'ofopen': 3571, 'shakespeare': 3572, 'larger': 3573, 'nextensive': 3574, 'brokerages': 3575, 'loc': 3576, 'nno': 3577, 'nsub': 3578, 'nzooma': 3579, 'sidra': 3580, 'supported': 3581, 'zooma': 3582, 'nawaz': 3583, 'nfreehold': 3584, 'dwc': 3585, 'marinaprincess': 3586, 'perimeter': 3587, 'ashley': 3588, 'j': 3589, 'nalternatively': 3590, 'person': 3591, 'rehman': 3592, 'shams': 3593, 'pa': 3594, 'classic': 3595, 'desired': 3596, 'fullscreen': 3597, 'hrs': 3598, 'irina': 3599, 'la': 3600, 'majlisproperties': 3601, 'models': 3602, 'nhttp': 3603, 'preview': 3604, 'prospects': 3605, 'rve': 3606, 'signature': 3607, 'viewable': 3608, 'cook': 3609, 'inbeach': 3610, 'nightlifeandfood': 3611, 'travellers': 3612, 'nmohammad': 3613, 'nproperties': 3614, 'dƒç≈†cor': 3615, 'jack': 3616, 'highfloor': 3617, 'gul': 3618, 'zia': 3619, 'abbosjon': 3620, 'nprincesstower': 3621, 'istanbul': 3622, 'nbarbecue': 3623, 'ngame': 3624, 'connection': 3625, 'nights': 3626, 'nnotes': 3627, 'staying': 3628, 'nresidents': 3629, 'joshi': 3630, 'kabir': 3631, 'ndowntown': 3632, 'nemaar': 3633, 'nzawaya': 3634, 'zawaya': 3635, 'symbol': 3636, 'nclean': 3637, 'chelsea': 3638, 'basics¬†': 3639, 'call¬†': 3640, 'chemist': 3641, 'city¬†': 3642, 'commission¬†': 3643, 'deposit¬†': 3644, 'dubai¬†': 3645, 'elevators¬†': 3646, 'kamal': 3647, 'park¬†¬†': 3648, 'points¬†': 3649, 'positive': 3650, 'price¬†': 3651, 'security¬†': 3652, 'station¬†': 3653, 'views¬†': 3654, '¬†great': 3655, '¬†location¬†': 3656, '¬∑': 3657, '¬∑aed': 3658, '¬∑beds': 3659, '¬∑building': 3660, '¬∑covered': 3661, '¬∑good': 3662, '¬∑high': 3663, '¬∑located': 3664, '¬∑princess': 3665, '¬∑retail': 3666, 'alaundry': 3667, 'johnston': 3668, 'grimshaw': 3669, 'jamie': 3670, 'meaning': 3671, 'circles': 3672, 'employment': 3673, 'strong': 3674, 'colm': 3675, 'dermody': 3676, 'ncolm': 3677, 'nguest': 3678, 'nliving': 3679, 'rics': 3680, 'thomas': 3681, 'thomashomesuae': 3682, 'valuer': 3683, 'abide': 3684, 'adhered': 3685, 'competent': 3686, 'cooperates': 3687, 'credibility': 3688, 'downturn': 3689, 'economic': 3690, 'emerged': 3691, 'jak': 3692, 'junaid': 3693, 'kimberly': 3694, 'principles': 3695, 'recent': 3696, 'stood': 3697, 'test': 3698, 'contractor': 3699, 'coordination': 3700, 'diligently': 3701, 'hope': 3702, 'invoicing': 3703, 'issue': 3704, 'nday': 3705, 'nrelated': 3706, 'pleasant': 3707, 'raised': 3708, 'sound': 3709, 'urgency': 3710, 'burner': 3711, 'control': 3712, 'expensive': 3713, 'ninside': 3714, 'sherwin': 3715, 'tiles': 3716, 'velayo': 3717, 'client': 3718, 'freely': 3719, 'rin': 3720, 'dan': 3721, 'enhanced': 3722, 'nabode': 3723, 'nwaterfront': 3724, 'simple': 3725, 'rennie': 3726, 'brown': 3727, 'brownstone': 3728, 'nbrown': 3729, 'prism': 3730, 'rajesh': 3731, 'mark': 3732, 'nbaths': 3733, 'nfurnishings': 3734, 'talk': 3735, 'earth': 3736, 'hifzur': 3737, 'nbest': 3738, 'tramp': 3739, 'buliding': 3740, 'hold': 3741, 'nsellers': 3742, 'nôéò': 3743, 'entrances': 3744, 'ambience': 3745, 'asmawi': 3746, 'caf√©‚äôs': 3747, 'conceptualized': 3748, 'country‚äôs': 3749, 'delighting': 3750, 'downs': 3751, 'ease': 3752, 'enticing': 3753, 'epitome': 3754, 'familiar': 3755, 'fancy': 3756, 'glamorous': 3757, 'incredibly': 3758, 'meal': 3759, 'old': 3760, 'player': 3761, 'residing': 3762, 'serving': 3763, 'shahra': 3764, 'sheif': 3765, 'speedboats': 3766, 'sumptuous': 3767, 'treat': 3768, 'umm': 3769, 'ups': 3770, 'walkway': 3771, 'walk‚äù': 3772, 'wateredge': 3773, '‚äúdubai': 3774, 'bedroomsapartment': 3775, 'ofover': 3776, 'unitl': 3777, 'caters': 3778, 'coziness': 3779, 'spaciousness': 3780, 'taste': 3781, 'added': 3782, 'externally': 3783, 'nextended': 3784, 'utilised': 3785, 'ref': 3786, 'bookings': 3787, 'furnisher': 3788, 'toiled': 3789, 'npanoramic': 3790, 'onor': 3791, 'ontanweer': 3792, 'bought': 3793, 'hamra': 3794, 'hpruae': 3795, 'nweb': 3796, 'slightly': 3797, 'looked': 3798, 'aeon': 3799, 'naeon': 3800, 'n‚ä¢close': 3801, 'platinum': 3802, 'trisl': 3803, 'welcare': 3804, 'yousuf': 3805, 'barbecue': 3806, 'visualised': 3807, 'n‚ä¢balcony': 3808, 'tecom‚äì': 3809, 'callzishaan': 3810, 'prod': 3811, 'separateand': 3812, 'zishaan': 3813, 'conversion': 3814, 'neatly': 3815, 'townhosue': 3816, 'wonderfully': 3817, 'todays': 3818, 'council': 3819, 'habitat': 3820, 'heritage': 3821, 'apartmentunfurnished': 3822, 'ofspacious': 3823, 'vijdan': 3824, 'nboth': 3825, 'reaching': 3826, 'calltoll': 3827, 'depict': 3828, 'palmview': 3829, 'telephone': 3830, 'redesigned': 3831, 'acess': 3832, 'obstruction': 3833, 'ocotober': 3834, 'abduvali': 3835, 'bank': 3836, 'dot': 3837, 'gapparov': 3838, 'hamptons': 3839, 'stn': 3840, 'capacity': 3841, 'ceilings': 3842, 'chef‚äôs': 3843, 'complimented': 3844, 'condo': 3845, 'emanate': 3846, 'entirety': 3847, 'exposures': 3848, 'foot': 3849, 'marvelous': 3850, 'masterpiece': 3851, 'mention': 3852, 'merely': 3853, 'n‚äúwith': 3854, 'particularly': 3855, 'problem': 3856, 'questioning': 3857, 'soaking': 3858, 'spending': 3859, 'stall': 3860, 'triple': 3861, 'wrap': 3862, 'centralized': 3863, 'sure': 3864, 'zaigham': 3865, 'aeontrisl': 3866, 'nbright': 3867, 'sparkling': 3868, 've': 3869, 'zarouni': 3870, 'ndiamond': 3871, 'housess': 3872, 'cayan': 3873, 'hunter': 3874, 'minimal': 3875, 'npk': 3876, 'pkproperties': 3877, 'yvonne': 3878, 'fit': 3879, 'border': 3880, 'planting': 3881, 'ajani': 3882, 'christopher': 3883, 'faade': 3884, 'nprudential': 3885, 'prudentialproperties': 3886, 'regions': 3887, 'acclaimed': 3888, 'arms': 3889, 'armsmcgregor': 3890, 'decade': 3891, 'hotline': 3892, 'led': 3893, 'mcgregor': 3894, 'success': 3895, 'thriving': 3896, 'ÿ¢ÿ±ÿöÿ≤': 3897, 'ÿ£ÿà': 3898, 'ÿ£ÿéÿ´ÿ±': 3899, 'ÿ£ÿ≥ÿ≥': 3900, 'ÿ¥ÿ±ÿßÿ°': 3901, 'ÿ¥ÿ±ÿéÿ©': 3902, 'ÿ¨ÿøÿäÿøÿ©': 3903, 'ÿ®ÿ¨ÿöÿäÿπ': 3904, 'ÿ®ÿäÿπ': 3905, 'ÿ®ÿæÿ®ÿ±ÿ©': 3906, 'ÿ®ÿéÿñ': 3907, 'ÿ®ÿñ': 3908, 'ÿßÿäÿ¨ÿßÿ±': 3909, 'ÿßÿæÿ™ÿñÿßÿå': 3910, 'ÿßÿñÿ£ÿπÿöÿßÿñ': 3911, 'ÿßÿñÿ±ÿßÿ≠ÿ©': 3912, 'ÿßÿñÿßÿáÿ™ÿöÿßÿö': 3913, 'ÿßÿñÿâ': 3914, 'ÿßÿñÿäÿàÿö': 3915, 'ÿßÿñÿöÿ≥ÿ™ÿöÿ±ÿ©': 3916, 'ÿßÿñÿüÿ¨ÿßÿ≠ÿßÿ™': 3917, 'ÿßÿñÿπÿçÿßÿ±ÿßÿ™': 3918, 'ÿßÿñÿπÿöÿñÿßÿ°': 3919, 'ÿßÿñÿ™ÿä': 3920, 'ÿßÿñÿ™ÿ∫ÿäÿäÿ±ÿßÿ™': 3921, 'ÿßÿñÿ≥ÿàÿßÿ°': 3922, 'ÿßÿøÿßÿ±ÿ©': 3923, 'ÿßÿü': 3924, 'ÿà': 3925, 'ÿàÿöÿ®ÿßÿøÿâÿí': 3926, 'ÿàÿüÿ≥ÿπÿâ': 3927, 'ÿàÿ™ÿ£ÿ¨ÿäÿ±': 3928, 'ÿáÿøÿåÿüÿß': 3929, 'ÿäÿ¥ÿáÿøÿáÿß': 3930, 'ÿäÿ¨ÿπÿñÿáÿß': 3931, 'ÿäÿçÿ™ÿµÿ±': 3932, 'ÿäÿ™ÿöÿ™ÿπ': 3933, 'ÿå': 3934, 'ÿåÿ±ÿµ': 3935, 'ÿåÿ±ÿäÿç': 3936, 'ÿåÿàÿæÿøÿöÿ©': 3937, 'ÿåÿä': 3938, 'ÿåÿçÿ∑': 3939, 'ÿåÿüÿ≠ÿü': 3940, 'ÿæÿñÿßÿñ': 3941, 'ÿæÿñÿç': 3942, 'ÿçÿàÿäÿ©': 3943, 'ÿçÿäÿöÿ©': 3944, 'ÿéÿñ': 3945, 'ÿñÿß': 3946, 'ÿñÿßÿ∂ÿßÿåÿ©': 3947, 'ÿñÿöÿ¥ÿßÿ±ÿäÿπ': 3948, 'ÿñÿπÿöÿñÿßÿ¶ÿüÿß': 3949, 'ÿñÿ™ÿ≠ÿçÿäÿç': 3950, 'ÿöÿ¥ÿßÿ±ÿäÿπ': 3951, 'ÿöÿ¨ÿßÿñ': 3952, 'ÿöÿ®ÿüÿäÿ©': 3953, 'ÿöÿ±ÿöÿàÿçÿ©': 3954, 'ÿöÿß': 3955, 'ÿöÿéÿ¨ÿ±ÿäÿ¨ÿ±': 3956, 'ÿöÿü': 3957, 'ÿöÿ≥ÿ™ÿπÿøÿ©': 3958, 'ÿøÿßÿ¶ÿöÿß': 3959, 'ÿøÿäÿüÿßÿöÿäÿéÿä': 3960, 'ÿøÿçÿ©': 3961, 'ÿüÿéÿ±ÿ≥': 3962, 'ÿπÿ¥ÿ±': 3963, 'ÿπÿñÿâ': 3964, 'ÿπÿöÿñÿßÿ¶ÿüÿß': 3965, 'ÿπÿöÿñÿäÿ©': 3966, 'ÿπÿöÿñÿüÿß': 3967, 'ÿπÿø': 3968, 'ÿ™ÿ£ÿöÿäÿü': 3969, 'ÿ™ÿáÿ™ÿö': 3970, 'ÿ™ÿ∂ÿö': 3971, 'ÿ™ÿ≥ÿàÿäÿç': 3972, 'ÿ∏ÿñ': 3973, 'ÿ∑ÿñÿ®ÿßÿ™ÿáÿö': 3974, 'ÿ≠ÿäÿ´': 3975, 'ÿ≠ÿø': 3976, 'ÿ≥ÿàÿç': 3977, 'ÿ≥ÿüÿàÿßÿ™': 3978, 'distress': 3979, 'npriced': 3980, 'inelite': 3981, 'hms¬†': 3982, 'nhomes': 3983, 'princes': 3984, 'du': 3985, 'rail': 3986, 'booking': 3987, 'credit': 3988, 'echeck': 3989, 'paypal': 3990, 'tiling': 3991, 'alansari': 3992, 'nmustafa': 3993, 'nsikandar': 3994, 'period': 3995, 'ambiance': 3996, 'nexperience': 3997, 'alreem': 3998, 'fabulously': 3999, 'nth': 4000, 'stair': 4001, 'blocks': 4002, 'iryna': 4003, 'array': 4004, 'detailes': 4005, 'nroya': 4006, 'observatory': 4007, 'premier': 4008, 'callvijdan': 4009, 'differs': 4010, 'nstock': 4011, 'rarely': 4012, 'lettingsu': 4013, 'servicesu': 4014, 'kms': 4015, 'roads': 4016, 'townhouse¬†': 4017, 'to¬†': 4018, 'akash': 4019, 'boutiques': 4020, 'nestled': 4021, 'nst': 4022, 'pbredubai': 4023, 'propertyboutique': 4024, 'add': 4025, 'bedrrom': 4026, 'facets': 4027, 'foreclosures': 4028, 'high¬†': 4029, 'improve': 4030, 'rates': 4031, 'timely': 4032, 'tips': 4033, 'alluring': 4034, 'consisted': 4035, 'ecstatic': 4036, 'famed': 4037, 'handover': 4038, 'impeccably': 4039, 'lively': 4040, '‚äúmarina': 4041, 'crown': 4042, 'nannual': 4043, 'nseparate': 4044, 'ntenant': 4045, 'roof': 4046, 'reachmaqsood': 4047, 'washrooms': 4048, 'clientele': 4049, 'firmly': 4050, 'pampering': 4051, 'stature': 4052, 'benefitting': 4053, 'kitchenopen': 4054, 'andrie': 4055, 'jackel': 4056, 'nbed': 4057, 'npark': 4058, 'transacting': 4059, 'e¬†': 4060, 'in¬†': 4061, 'attend': 4062, 'connectivity': 4063, 'grandeur': 4064, 'nchqs': 4065, 'negotiate': 4066, 'ngrandeur': 4067, 'nlandlords': 4068, 'nlet': 4069, 'nparty': 4070, 'npets': 4071, 'rents': 4072, 'smooth': 4073, 'sqf': 4074, 'award': 4075, 'winning': 4076, 'alvorada': 4077, 'captured': 4078, 'cluster': 4079, 'colleccion': 4080, 'detached': 4081, 'divided': 4082, 'fairways': 4083, 'grasses': 4084, 'imagination': 4085, 'lies': 4086, 'mahra': 4087, 'matter': 4088, 'mirador': 4089, 'nature': 4090, 'nova': 4091, 'palmera': 4092, 'portuguese': 4093, 'saheel': 4094, 'savannah': 4095, 'splendid': 4096, 'terra': 4097, 'heaven': 4098, 'maidsroom': 4099, 'users': 4100, 'berth': 4101, 'carpets': 4102, 'marina¬†princess': 4103, 'or¬†rustam': 4104, 'rationally': 4105, 'unforgettable': 4106, 'dessert': 4107, 'villalocated': 4108, 'payable': 4109, 'rahim': 4110, 'tramway': 4111, 'waqar': 4112, 'chloe': 4113, 'medium': 4114, 'dine': 4115, 'gaze': 4116, 'getaway': 4117, 'strip': 4118, 'formed': 4119, 'members': 4120, 'nspecious': 4121, 'nsygma': 4122, 'yearly': 4123, 'indicated': 4124, 'core': 4125, 'customize': 4126, 'merges': 4127, 'shell': 4128, 'nby': 4129, 'performance': 4130, 'structures': 4131, 'atazur': 4132, 'nazur': 4133, 'anil': 4134, 'dadlani': 4135, 'don‚äôt': 4136, 'niconic': 4137, 'appliance': 4138, 'lowest': 4139, 'maverick': 4140, 'nsuperb': 4141, 'capital': 4142, 'deserve': 4143, 'keyone': 4144, 'keyonerealestate': 4145, 'listingatkeyonerealestate': 4146, 'nfitness': 4147, 'pressure': 4148, 'majestic': 4149, 'navalta': 4150, 'nlucy': 4151, 'thisfurnished': 4152, 'dmcc': 4153, 'glad': 4154, 'npleasedon': 4155, 'thesitatetocallmrumar': 4156, 'meter': 4157, 'nbrand': 4158, 'nstandard': 4159, 'nlist': 4160, 'quarters': 4161, 'rainfall': 4162, 'comfortably': 4163, 'knowing': 4164, 'thoughtfully': 4165, 'vibes': 4166, 'centres': 4167, 'daycare': 4168, 'ncontributing': 4169, 'neverything': 4170, 'neverest': 4171, 'pleasecall': 4172, 'sep': 4173, 'wk': 4174, 'corporations': 4175, 'enterprises': 4176, 'multinational': 4177, 'neda': 4178, 'span': 4179, 'customary': 4180, 'displays': 4181, 'tranquillity': 4182, 'gaming': 4183, 'hugely': 4184, 'luxuriously': 4185, 'showcased': 4186, 'unparalleled': 4187, 'commission': 4188, 'disclaimer': 4189, 'enoc': 4190, 'fair': 4191, 'mediclinic': 4192, 'nhousess': 4193, 'nimportant': 4194, 'unfair': 4195, 'veranda': 4196, 'aedk': 4197, 'nsphinx': 4198, 'sphinxrealestate': 4199, 'acts': 4200, 'fashionable': 4201, 'gents': 4202, 'ladies': 4203, 'mouth': 4204, 'sliding': 4205, 'abdulnasir': 4206, 'academies': 4207, 'parkland': 4208, 'saeed': 4209, 'soon¬†': 4210, 'suqeim': 4211, 'gharib': 4212, 'ngated': 4213, 'nhight': 4214, 'tariq': 4215, 'awarded': 4216, 'consultation': 4217, 'ensuring': 4218, 'fulfill': 4219, 'gathered': 4220, 'mission': 4221, 'sygma': 4222, 'dahiya': 4223, 'deals': 4224, 'deepak': 4225, 'enquiry': 4226, 'ninterested': 4227, 'npractically': 4228, 'recognizes': 4229, 'brainchild': 4230, 'empower': 4231, 'infront': 4232, 'nshr': 4233, 'nstone': 4234, 'players': 4235, 'points': 4236, 'proven': 4237, 'vot': 4238, 'internally': 4239, 'nmaid': 4240, 'compensate': 4241, 'damper': 4242, 'exceeding': 4243, 'increase': 4244, 'jurisdictional': 4245, 'lateral': 4246, 'movement': 4247, 'n‚ä¢kids': 4248, 'occupants': 4249, 'risks': 4250, 'sloshing': 4251, 'strategies': 4252, 'tank': 4253, 'tuned': 4254, 'upper': 4255, 'warn': 4256, 'wind': 4257, 'winds': 4258, 'aim': 4259, 'akif': 4260, 'define': 4261, 'delight': 4262, 'handpicked': 4263, 'livedubai': 4264, 'loyalty': 4265, 'nexclusive': 4266, 'ownership': 4267, 'uk': 4268, 'watsapp': 4269, 'nrecreation': 4270, 'almas': 4271, 'avenida': 4272, 'boast': 4273, 'certainly': 4274, 'collecion': 4275, 'communitiesal': 4276, 'compose': 4277, 'hattan': 4278, 'nbecome': 4279, 'covered¬†': 4280, 'nconvenient': 4281, 'nmaster': 4282, 'nnumber': 4283, 'apartmentmarina': 4284, 'nstudio': 4285, 'associates': 4286, 'babar': 4287, 'fawad': 4288, 'franchises': 4289, 'professionalism': 4290, 'secures': 4291, 'picture': 4292, 'unitin': 4293, 'beginnings': 4294, 'complexes': 4295, 'dhs': 4296, 'employee': 4297, 'evolved': 4298, 'excellence': 4299, 'financially': 4300, 'firms': 4301, 'headquarters': 4302, 'increasing': 4303, 'longevity': 4304, 'maileen': 4305, 'methods': 4306, 'nbecause': 4307, 'nduplex': 4308, 'nmiss': 4309, 'operational': 4310, 'possibility': 4311, 'products': 4312, 'prompt': 4313, 'striven': 4314, 'unlimited': 4315, 'amenities‚äô': 4316, 'holdings': 4317, 'ninformation': 4318, 'nultra': 4319, 'maidprincess': 4320, 'barika': 4321, 'stoery': 4322, 'barkia': 4323, 'cycle': 4324, 'earn': 4325, 'nbasement': 4326, 'promise': 4327, 'silver': 4328, 'stable': 4329, 'stonetree': 4330, 'transaction': 4331, 'tree': 4332, 'masterbedroom': 4333, 'callum': 4334, 'happen': 4335, 'assili': 4336, 'difc': 4337, 'dubailand': 4338, 'maina': 4339, 'nmasoud': 4340, 'oasis': 4341, 'paradise': 4342, 'toilets': 4343, 'viewingtoday': 4344, 'viewthree': 4345, 'ne': 4346, 'nimex': 4347, 'n–°—ç–æ–∏–º–æ—å—ç—å': 4348, 'n–ö–≤–∞—ä—ç–∏—ä–∞': 4349, 'n–†–∞–∑–º–µ—ä': 4350, 'usd': 4351, '–¢—ä–µ–ω–∞–∂–µ—ä–ω—ã–π': 4352, '–°—ä–µ–¥–ω–∏–π': 4353, '–±–∞—ä—ã': 4354, '–º': 4355, '–º–µ—å—ç–æ': 4356, '–ß–∞—å—ç–∏—á–ω—ã–π': 4357, '–æ—ö—ä–∞–ω–∞': 4358, '–ë–∞—å—å–µ–π–ω': 4359, '–î—é–±–∞–π': 4360, '–ö—ä—é–≥–ª–æ—å—é—ç–æ—á–ω–∞—è': 4361, '–ø–∞—ä–∫–æ–≤–æ—á–ω–æ–µ': 4362, '–ú–∞—ä–∏–ω—é': 4363, '–û—ç–¥–µ–ª—å–ω–∞—è': 4364, '–ω–∞': 4365, '–†–µ—å—ç–æ—ä–∞–ω—ã': 4366, '–∑–∞–ª': 4367, '–∫–∞—ñ–µ': 4368, '–∫–≤': 4369, '–∫—é—ö–ω—è': 4370, '–≤–∏–¥': 4371, '—å–ø–∞–ª—å–ω—è': 4372, '—å–∞–ω': 4373, '—å—é–ø–µ—ä–º–∞—ä–∫–µ—ç—ã': 4374, '—ç—ç–∞–∂': 4375, '—é–∑–ª–∞': 4376, 'attract': 4377, 'detailing': 4378, 'garnered': 4379, 'luxhabtiat': 4380, 'raft': 4381, 'horne': 4382, 'raine': 4383, 'berdnikova': 4384, 'callmarina': 4385, 'conveniences': 4386, 'ect': 4387, 'sleek': 4388, 'yachting': 4389, 'bedding': 4390, 'greet': 4391, 'personalized': 4392, 'api': 4393, 'bennabi': 4394, 'conditioner': 4395, 'dubaifirsthome': 4396, 'lighted': 4397, 'malek': 4398, 'ncentral': 4399, 'nreference': 4400, 'nrenting': 4401, 'rc': 4402, 'acquire': 4403, 'french': 4404, 'globe': 4405, 'helping': 4406, 'john': 4407, 'outgrown': 4408, 'select': 4409, 'synonymous': 4410, 'taylor': 4411, 'aptly': 4412, 'axioms': 4413, 'efficacy': 4414, 'isrented': 4415, 'named': 4416, 'paced': 4417, 'raw': 4418, 'card': 4419, 'date': 4420, 'departure': 4421, 'gem': 4422, 'hindi': 4423, 'method': 4424, 'midday': 4425, 'nightclubs': 4426, 'notes': 4427, 'ntall': 4428, 'nwhats': 4429, 'possibilities': 4430, 'refund': 4431, 'refunded': 4432, 'season': 4433, 'times': 4434, '‚äî': 4435, 'nref': 4436, 'nstr': 4437, 'sevenline': 4438, 'sevenlinerealestate': 4439, 'khalid': 4440, 'nwideway': 4441, 'nzarib': 4442, '¬†zarib': 4443, 'advance': 4444, 'dandb': 4445, 'dandbdubai': 4446, 'nhotline': 4447, 'nucf': 4448, 'timi': 4449, 'unfrunished': 4450, 'lowerfloor': 4451, 'nstate': 4452, 'advised': 4453, 'consider': 4454, 'images': 4455, 'jeremiah': 4456, 'justice': 4457, 'sharers': 4458, 'willing': 4459, 'countertop': 4460, 'designated': 4461, 'bs': 4462, 'burhan': 4463, 'iqi': 4464, 'iqiproperties': 4465, 'nlanline': 4466, 'nresidents‚äô': 4467, 'sarwar': 4468, 'clients‚äô': 4469, 'durable': 4470, 'maintaining': 4471, 'nafis': 4472, 'ndedicated': 4473, 'specializes': 4474, 'spectrum': 4475, 'trusting': 4476, 'wtsapp': 4477, 'courseviews': 4478, 'masterplan': 4479, 'parkingspace': 4480, 'ar': 4481, 'doubt': 4482, 'nclosed': 4483, 'nwithout': 4484, 'possession': 4485, 'develop': 4486, 'localities': 4487, 'nparadise': 4488, 'paradiselifere': 4489, 'pl': 4490, 'relationship': 4491, 'utmost': 4492, 'elgarne': 4493, 'fw': 4494, 'realestate': 4495, 'offplan': 4496, 'nbacking': 4497, 'nquite': 4498, 'ahmed': 4499, 'apartmentsu': 4500, 'termed': 4501, 'upresidential': 4502, 'detailhas': 4503, 'nbarbecuearea': 4504, 'ndemanding': 4505, 'nunobstructed': 4506, 'presentthis': 4507, 'quarterly': 4508, 'reports': 4509, 'thisvilla': 4510, 'villaplus': 4511, 'break': 4512, 'fitting': 4513, 'you‚äôd': 4514, 'operated': 4515, 'barbecuearea': 4516, 'desks': 4517, 'finishings': 4518, 'hailed': 4519, 'horizon': 4520, 'secured': 4521, 'selections': 4522, 'adil': 4523, 'assets': 4524, 'beliefs': 4525, 'burlington': 4526, 'dedication': 4527, 'determination': 4528, 'expectations': 4529, 'growth': 4530, 'hallmarks': 4531, 'hard': 4532, 'harringtons': 4533, 'mainly': 4534, 'nharringtons': 4535, 'nsteadfast': 4536, 'pioneering': 4537, 'proactively': 4538, 'respect': 4539, 'responsiveness': 4540, 'sources': 4541, 'unwavering': 4542, 'update': 4543, '‚äúexperience': 4544, 'organise': 4545, 'absolutely': 4546, 'nsee': 4547, 'obviously': 4548, 'ahead': 4549, 'eat': 4550, 'ntop': 4551, 'dinninng': 4552, 'ncan': 4553, 'rady': 4554, 'scaped': 4555, 'yr': 4556, 'nam': 4557, 'law': 4558, 'ntelephone': 4559, 'seasonality': 4560, 'cineplex': 4561, 'glitter': 4562, 'nhotels': 4563, 'paring': 4564, 'retire': 4565, 'sand': 4566, 'sunlight': 4567, 'wake': 4568, 'availablein': 4569, 'vacating': 4570, 'maid¬†': 4571, 'narab': 4572, 'nfloors': 4573, 'npleased': 4574, 'nwebiste': 4575, 'nwide': 4576, 'residence¬†': 4577, 'sea¬†': 4578, 'bochantseva': 4579, 'hampton': 4580, 'nhamptons': 4581, 'svetlana': 4582, 'miele': 4583, 'nexquisitely': 4584, 'nstaff': 4585, 'vault': 4586, 'open¬†': 4587, 'belleview': 4588, 'blue': 4589, 'coastline': 4590, 'hosting': 4591, 'milan': 4592, 'relaxation': 4593, 'astonishing': 4594, 'builtin': 4595, 'ceneterd': 4596, 'definition': 4597, 'execlusive': 4598, 'nbuiltin': 4599, 'nmodern': 4600, 'nnot': 4601, 'rainshowers': 4602, 'teq': 4603, 'decking': 4604, 'gold': 4605, 'image': 4606, 'emaars': 4607, 'excellently': 4608, 'flagship': 4609, 'inspection': 4610, 'josh': 4611, 'offer‚äôs': 4612, 'awaits': 4613, 'essential': 4614, 'ninterior': 4615, 'desiring': 4616, 'accomodation': 4617, 'floorplan': 4618, 'adjusted': 4619, 'complimenting': 4620, 'ninternally': 4621, 'pleasantly': 4622, 'continuously': 4623, 'majdei': 4624, 'mansour': 4625, 'mhm': 4626, 'mhmrealestate': 4627, 'niche': 4628, 'qualified': 4629, 'nfree': 4630, 'nhave': 4631, 'ntower¬†is': 4632, '¬†dubai': 4633, '¬†it': 4634, 'member': 4635, 'excluding': 4636, 'nattn': 4637, 'ncelebrate': 4638, 'nextra': 4639, 'ngain': 4640, 'ninclusive': 4641, 'nwelcomes': 4642, 'n‚úü': 4643, '‚úü': 4644, 'contemporarily': 4645, 'homely': 4646, 'ncontemporary': 4647, 'ndo': 4648, 'noiseless': 4649, 'reading': 4650, 'undisturbed': 4651, 'andliving': 4652, 'basketball': 4653, 'determined': 4654, 'emphasizes': 4655, 'honesty': 4656, 'importance': 4657, 'integrity': 4658, 'kwdubai': 4659, 'legacy': 4660, 'putting': 4661, 'remaining': 4662, 'serve': 4663, 'tenniscourts': 4664, 'ultimately': 4665, 'william': 4666, 'couples': 4667, 'dec': 4668, 'nu': 4669, 'average': 4670, 'enclaves': 4671, 'heavily': 4672, 'lym': 4673, 'ranchesit': 4674, 'transacted': 4675, 'usually': 4676, 'accentuated': 4677, 'airiness': 4678, 'berths': 4679, 'encompassing': 4680, 'feels': 4681, 'flooding': 4682, 'framing': 4683, 'luqman': 4684, 'luxuryproperty': 4685, 'sense': 4686, 'leaseable': 4687, 'beautfull': 4688, 'asset': 4689, 'businessmen': 4690, 'celebrities': 4691, 'celebrity': 4692, 'figureheads': 4693, 'invite': 4694, 'marinas': 4695, 'mb': 4696, 'myles': 4697, 'nlisted': 4698, 'parked': 4699, 'pieces': 4700, 'richest': 4701, 'society': 4702, 'trophy': 4703, 'graeme': 4704, 'decorated': 4705, 'meridian': 4706, 'neutral': 4707, 'roomwith': 4708, 'oct': 4709, 'buniah': 4710, 'creations': 4711, 'farag': 4712, 'foundation': 4713, 'notch': 4714, 'objectives': 4715, 'pursuit': 4716, 'reda': 4717, 'stakeholders': 4718, 'strategic': 4719, 'clothes': 4720, 'fior': 4721, 'jacuzi': 4722, 'mts': 4723, 'quipped': 4724, 'almaya': 4725, 'closest': 4726, 'westzone': 4727, 'katia': 4728, 'mccone': 4729, 'pool¬†': 4730, 'nocean': 4731, 'carrefoure': 4732, 'kidz': 4733, 'nabdul': 4734, 'poo': 4735, 'blinds': 4736, 'surround': 4737, 'avail': 4738, 'enviable': 4739, 'nbelow': 4740, 'vacated': 4741, 'expats': 4742, 'andpanoramic': 4743, 'nthree': 4744, 'customs': 4745, 'inchq': 4746, 'mohsin': 4747, 'nbeautifull': 4748, 'ncommission': 4749, 'nldi': 4750, 'pricess': 4751, 'reint': 4752, 'seaviews': 4753, 'turning': 4754, 'bicycle': 4755, 'cul': 4756, 'footpaths': 4757, 'healthy': 4758, 'onwards': 4759, 'sacs': 4760, 'glazed': 4761, 'bringing': 4762, 'foyer': 4763}\n"
     ]
    }
   ],
   "source": [
    "from gensim.corpora.dictionary import Dictionary\n",
    "\n",
    "property_dictionary = Dictionary(property['property_text_en'])\n",
    "\n",
    "print(property_dictionary.token2id)"
   ]
  },
  {
   "cell_type": "code",
   "execution_count": 46,
   "metadata": {},
   "outputs": [
    {
     "data": {
      "text/plain": [
       "'area'"
      ]
     },
     "execution_count": 46,
     "metadata": {},
     "output_type": "execute_result"
    }
   ],
   "source": [
    "property_dictionary[3]"
   ]
  },
  {
   "cell_type": "code",
   "execution_count": 47,
   "metadata": {},
   "outputs": [
    {
     "data": {
      "text/plain": [
       "[[(12, 3),\n",
       "  (13, 5),\n",
       "  (26, 4),\n",
       "  (31, 1),\n",
       "  (32, 17),\n",
       "  (38, 1),\n",
       "  (50, 1),\n",
       "  (51, 5),\n",
       "  (68, 1),\n",
       "  (69, 1),\n",
       "  (70, 1),\n",
       "  (71, 1),\n",
       "  (72, 2),\n",
       "  (73, 1),\n",
       "  (74, 1),\n",
       "  (75, 1),\n",
       "  (76, 1),\n",
       "  (77, 2),\n",
       "  (78, 1),\n",
       "  (79, 1),\n",
       "  (80, 1),\n",
       "  (81, 2),\n",
       "  (82, 1),\n",
       "  (83, 1),\n",
       "  (84, 1),\n",
       "  (85, 1),\n",
       "  (86, 1),\n",
       "  (87, 1),\n",
       "  (88, 1),\n",
       "  (89, 1),\n",
       "  (90, 1),\n",
       "  (91, 1),\n",
       "  (92, 1),\n",
       "  (93, 1),\n",
       "  (94, 1),\n",
       "  (95, 1),\n",
       "  (96, 1),\n",
       "  (97, 1),\n",
       "  (98, 1),\n",
       "  (99, 1),\n",
       "  (100, 1),\n",
       "  (101, 1),\n",
       "  (102, 3),\n",
       "  (103, 1),\n",
       "  (104, 1),\n",
       "  (105, 1),\n",
       "  (106, 3),\n",
       "  (107, 1),\n",
       "  (108, 2),\n",
       "  (109, 1),\n",
       "  (110, 1),\n",
       "  (111, 1),\n",
       "  (112, 1),\n",
       "  (113, 1),\n",
       "  (114, 1),\n",
       "  (115, 1),\n",
       "  (116, 1),\n",
       "  (117, 1),\n",
       "  (118, 1),\n",
       "  (119, 1),\n",
       "  (120, 1),\n",
       "  (121, 1),\n",
       "  (122, 1),\n",
       "  (123, 2),\n",
       "  (124, 1),\n",
       "  (125, 1),\n",
       "  (126, 1),\n",
       "  (127, 1),\n",
       "  (128, 1),\n",
       "  (129, 1),\n",
       "  (130, 1),\n",
       "  (131, 2),\n",
       "  (132, 1),\n",
       "  (133, 1),\n",
       "  (134, 1),\n",
       "  (135, 1),\n",
       "  (136, 2),\n",
       "  (137, 1)],\n",
       " [(3, 1),\n",
       "  (5, 2),\n",
       "  (10, 1),\n",
       "  (12, 2),\n",
       "  (15, 2),\n",
       "  (26, 2),\n",
       "  (32, 4),\n",
       "  (38, 1),\n",
       "  (46, 2),\n",
       "  (65, 1),\n",
       "  (72, 1),\n",
       "  (77, 1),\n",
       "  (83, 1),\n",
       "  (87, 1),\n",
       "  (100, 1),\n",
       "  (123, 1),\n",
       "  (127, 2),\n",
       "  (136, 1),\n",
       "  (138, 1),\n",
       "  (139, 1),\n",
       "  (140, 1),\n",
       "  (141, 1),\n",
       "  (142, 1),\n",
       "  (143, 1),\n",
       "  (144, 1),\n",
       "  (145, 1),\n",
       "  (146, 1),\n",
       "  (147, 1),\n",
       "  (148, 1),\n",
       "  (149, 1),\n",
       "  (150, 1),\n",
       "  (151, 1),\n",
       "  (152, 1),\n",
       "  (153, 1),\n",
       "  (154, 1),\n",
       "  (155, 1),\n",
       "  (156, 1),\n",
       "  (157, 1),\n",
       "  (158, 1),\n",
       "  (159, 1),\n",
       "  (160, 1),\n",
       "  (161, 1),\n",
       "  (162, 1),\n",
       "  (163, 1),\n",
       "  (164, 1),\n",
       "  (165, 1),\n",
       "  (166, 1),\n",
       "  (167, 1),\n",
       "  (168, 1),\n",
       "  (169, 1),\n",
       "  (170, 1),\n",
       "  (171, 1),\n",
       "  (172, 1),\n",
       "  (173, 1),\n",
       "  (174, 1),\n",
       "  (175, 1),\n",
       "  (176, 1),\n",
       "  (177, 2),\n",
       "  (178, 1),\n",
       "  (179, 3),\n",
       "  (180, 2),\n",
       "  (181, 1),\n",
       "  (182, 1),\n",
       "  (183, 1),\n",
       "  (184, 1),\n",
       "  (185, 1),\n",
       "  (186, 1),\n",
       "  (187, 1),\n",
       "  (188, 1),\n",
       "  (189, 2),\n",
       "  (190, 1),\n",
       "  (191, 2),\n",
       "  (192, 1)],\n",
       " [(2, 1),\n",
       "  (4, 1),\n",
       "  (8, 1),\n",
       "  (19, 1),\n",
       "  (26, 4),\n",
       "  (29, 2),\n",
       "  (32, 19),\n",
       "  (38, 1),\n",
       "  (43, 1),\n",
       "  (65, 2),\n",
       "  (70, 1),\n",
       "  (72, 3),\n",
       "  (77, 3),\n",
       "  (82, 1),\n",
       "  (87, 1),\n",
       "  (112, 1),\n",
       "  (140, 1),\n",
       "  (141, 1),\n",
       "  (142, 1),\n",
       "  (147, 1),\n",
       "  (170, 1),\n",
       "  (171, 1),\n",
       "  (173, 2),\n",
       "  (179, 1),\n",
       "  (193, 1),\n",
       "  (194, 2),\n",
       "  (195, 1),\n",
       "  (196, 1),\n",
       "  (197, 2),\n",
       "  (198, 2),\n",
       "  (199, 1),\n",
       "  (200, 1),\n",
       "  (201, 2),\n",
       "  (202, 4),\n",
       "  (203, 2),\n",
       "  (204, 1),\n",
       "  (205, 1),\n",
       "  (206, 2),\n",
       "  (207, 1),\n",
       "  (208, 2),\n",
       "  (209, 1),\n",
       "  (210, 2),\n",
       "  (211, 2),\n",
       "  (212, 1),\n",
       "  (213, 1),\n",
       "  (214, 2),\n",
       "  (215, 1),\n",
       "  (216, 1),\n",
       "  (217, 1),\n",
       "  (218, 1),\n",
       "  (219, 1),\n",
       "  (220, 2),\n",
       "  (221, 2),\n",
       "  (222, 2),\n",
       "  (223, 2),\n",
       "  (224, 2),\n",
       "  (225, 1),\n",
       "  (226, 1),\n",
       "  (227, 1),\n",
       "  (228, 1),\n",
       "  (229, 1),\n",
       "  (230, 1),\n",
       "  (231, 1),\n",
       "  (232, 1),\n",
       "  (233, 2),\n",
       "  (234, 1),\n",
       "  (235, 3),\n",
       "  (236, 1),\n",
       "  (237, 1),\n",
       "  (238, 1)]]"
      ]
     },
     "execution_count": 47,
     "metadata": {},
     "output_type": "execute_result"
    }
   ],
   "source": [
    "property_corpus = [property_dictionary.doc2bow(text) for text in property['property_text_en']]\n",
    "property_corpus[1:4]"
   ]
  },
  {
   "cell_type": "code",
   "execution_count": 48,
   "metadata": {},
   "outputs": [],
   "source": [
    "from gensim.models.lsimodel import LsiModel"
   ]
  },
  {
   "cell_type": "code",
   "execution_count": 49,
   "metadata": {},
   "outputs": [],
   "source": [
    "lsi = LsiModel(corpus=property_corpus,id2word=property_dictionary,num_topics=20)"
   ]
  },
  {
   "cell_type": "code",
   "execution_count": 50,
   "metadata": {},
   "outputs": [
    {
     "name": "stdout",
     "output_type": "stream",
     "text": [
      "(0, '0.955*\"n\" + 0.115*\"marina\" + 0.114*\"dubai\" + 0.061*\"tower\" + 0.051*\"apartment\" + 0.050*\"bedroom\" + 0.044*\"floor\" + 0.043*\"area\" + 0.042*\"view\" + 0.041*\"room\"')\n",
      "(1, '0.429*\"dubai\" + 0.421*\"marina\" + 0.385*\"n‚ä¢\" + -0.265*\"n\" + 0.182*\"apartment\" + 0.165*\"tower\" + 0.163*\"bedroom\" + 0.145*\"residence\" + 0.128*\"area\" + 0.119*\"elite\"')\n",
      "(2, '-0.857*\"n‚ä¢\" + 0.288*\"marina\" + 0.238*\"dubai\" + -0.083*\"‚äì\" + -0.072*\"n\" + 0.070*\"apartment\" + -0.048*\"amp\" + 0.048*\"real\" + 0.046*\"palm\" + 0.046*\"walk\"')\n",
      "(3, '-0.394*\"‚ä¢\" + 0.310*\"tower\" + -0.179*\"n‚óè\" + 0.159*\"princess\" + -0.156*\"room\" + -0.145*\"study\" + -0.141*\"pool\" + 0.135*\"dubai\" + -0.134*\"kitchen\" + -0.131*\"bedrooms\"')\n",
      "(4, '0.464*\"‚ä¢\" + 0.419*\"tower\" + 0.226*\"princess\" + -0.214*\"marina\" + 0.212*\"residential\" + -0.169*\"walk\" + 0.157*\"floor\" + 0.157*\"tallest\" + 0.143*\"world\" + -0.112*\"station\"')\n",
      "(5, '-0.450*\"‚ä¢\" + 0.447*\"n‚óè\" + -0.234*\"residence\" + 0.217*\"estate\" + 0.215*\"real\" + -0.158*\"elite\" + -0.143*\"marina\" + -0.128*\"walk\" + 0.115*\"tower\" + -0.108*\"beach\"')\n",
      "(6, '0.694*\"n‚óè\" + 0.203*\"‚ä¢\" + -0.182*\"room\" + 0.162*\"properties\" + 0.157*\"driven\" + -0.134*\"living\" + -0.132*\"bedrooms\" + 0.132*\"residence\" + -0.124*\"property\" + 0.111*\"elite\"')\n",
      "(7, '-0.312*\"residence\" + 0.283*\"marina\" + 0.244*\"‚ä¢\" + -0.244*\"elite\" + 0.224*\"real\" + 0.220*\"estate\" + -0.216*\"room\" + 0.193*\"n‚ä¢\" + -0.188*\"floor\" + -0.153*\"equipped\"')\n",
      "(8, '0.409*\"real\" + 0.408*\"estate\" + 0.361*\"residence\" + 0.278*\"elite\" + -0.174*\"marina\" + -0.172*\"n‚óè\" + -0.165*\"tower\" + -0.121*\"princess\" + 0.120*\"dubai\" + -0.117*\"apartment\"')\n",
      "(9, '-0.413*\"dubai\" + 0.313*\"apartment\" + -0.202*\"‚ä¢\" + -0.186*\"jumeirah\" + 0.178*\"walk\" + -0.167*\"s\" + 0.157*\"tower\" + 0.151*\"real\" + 0.147*\"estate\" + 0.135*\"kitchen\"')\n",
      "(10, '0.266*\"apartment\" + -0.207*\"residential\" + 0.193*\"sea\" + 0.191*\"rooms\" + -0.190*\"located\" + 0.188*\"palm\" + -0.179*\"tallest\" + 0.176*\"jumeirah\" + -0.150*\"tower\" + -0.143*\"study\"')\n",
      "(11, '0.271*\"walk\" + 0.226*\"station\" + 0.216*\"real\" + 0.210*\"estate\" + 0.190*\"beach\" + -0.164*\"bedroom\" + -0.158*\"apartment\" + 0.150*\"swimming\" + 0.147*\"mall\" + 0.145*\"rooms\"')\n",
      "(12, '-0.245*\"princess\" + 0.224*\"bedroom\" + -0.215*\"world\" + -0.195*\"s\" + 0.145*\"floor\" + 0.140*\"units\" + -0.140*\"living\" + -0.139*\"kitchen\" + 0.137*\"exclusive\" + -0.136*\"building\"')\n",
      "(13, '-0.236*\"area\" + -0.214*\"room\" + 0.169*\"jumeirah\" + 0.161*\"com\" + 0.148*\"available\" + -0.143*\"apartment\" + 0.134*\"walk\" + 0.133*\"station\" + 0.130*\"palm\" + 0.128*\"arrange\"')\n",
      "(14, '-0.247*\"marina\" + 0.240*\"walk\" + 0.221*\"room\" + 0.220*\"station\" + -0.195*\"amp\" + 0.155*\"international\" + 0.139*\"realty\" + 0.137*\"gulf\" + 0.133*\"shops\" + 0.123*\"apartments\"')\n",
      "(15, '0.257*\"apartment\" + 0.241*\"bedroom\" + -0.232*\"amp\" + -0.205*\"view\" + -0.175*\"room\" + -0.174*\"fully\" + 0.166*\"s\" + -0.145*\"services\" + 0.142*\"pool\" + -0.140*\"marina\"')\n",
      "(16, '-0.260*\"room\" + 0.226*\"area\" + 0.217*\"view\" + 0.178*\"property\" + 0.174*\"sea\" + 0.152*\"viewing\" + -0.146*\"jumeirah\" + -0.144*\"apartment\" + 0.132*\"access\" + -0.121*\"noffice\"')\n",
      "(17, '-0.344*\"amp\" + 0.228*\"view\" + -0.218*\"apartment\" + -0.161*\"rent\" + -0.149*\"properties\" + -0.142*\"property\" + 0.140*\"sea\" + -0.135*\"ft\" + -0.122*\"sq\" + -0.118*\"services\"')\n",
      "(18, '0.277*\"amp\" + -0.272*\"room\" + -0.231*\"pool\" + 0.177*\"floor\" + 0.160*\"bedroom\" + -0.128*\"dubai\" + 0.125*\"gt\" + 0.123*\"community\" + 0.122*\"golf\" + 0.119*\"‚äì\"')\n",
      "(19, '0.220*\"amp\" + 0.203*\"room\" + -0.177*\"jumeirah\" + -0.167*\"ranches\" + -0.167*\"properties\" + 0.156*\"details\" + -0.155*\"view\" + -0.151*\"services\" + -0.144*\"apartment\" + -0.143*\"landlords\"')\n"
     ]
    }
   ],
   "source": [
    "lsi_topics = lsi.print_topics()\n",
    "for topic in lsi_topics:\n",
    "  print(topic)"
   ]
  },
  {
   "cell_type": "code",
   "execution_count": 51,
   "metadata": {},
   "outputs": [],
   "source": [
    "from nltk.corpus import stopwords\n",
    "from nltk.tokenize import word_tokenize\n",
    "\n",
    "\n",
    "\n",
    "#DEfine a simple function to filter out the unwanted words \n",
    "unwanted =[\"\"]\n",
    "def remove_unwanted(text):                                          \n",
    "  return [word for word in word_tokenize(text) if word not in unwanted]\n",
    "\n",
    "\n",
    "\n",
    "\n",
    "#Define a custom preprocess function for the test documents, this can also be applied to pandas dataframe series\n",
    "def custom_preprocess(sentence):                         \n",
    "  sentence = sentence.lower()\n",
    "  no_stopwords = remove_stopwords(sentence)\n",
    "  tokens = word_tokenize(no_stopwords)\n",
    "  no_punctuation = strip_punctuation(no_stopwords)\n",
    "  unwanted = remove_unwanted(no_punctuation)\n",
    "  return unwanted"
   ]
  },
  {
   "cell_type": "code",
   "execution_count": 52,
   "metadata": {},
   "outputs": [
    {
     "name": "stdout",
     "output_type": "stream",
     "text": [
      "[(12, 1)]\n"
     ]
    }
   ],
   "source": [
    "test_doc = 'Dubai'\n",
    "test_doc = custom_preprocess(test_doc)\n",
    "test_doc_bow = property_dictionary.doc2bow(test_doc)\n",
    "print(test_doc_bow)"
   ]
  },
  {
   "cell_type": "code",
   "execution_count": 74,
   "metadata": {},
   "outputs": [
    {
     "name": "stdout",
     "output_type": "stream",
     "text": [
      "[(0, 0.00021504084303988413), (1, 0.0002169484470000805), (2, 0.0002882122833649586), (3, -0.0015688196164061825), (4, 0.0021857242581397756), (5, -0.000774538359891865), (6, -0.0002622618288640646), (7, 0.00029758047803156375), (8, -0.00018456135028466756), (9, 0.0012386115010144041), (10, -0.0015244660946259598), (11, -0.0002267484427041659), (12, -0.0021975515264311862), (13, -0.0012471396655745473), (14, -0.0005463793850282125), (15, 0.0009033707215607003), (16, -0.0005742346712067461), (17, -0.00012223245280689257), (18, -0.0023918777516801983), (19, 0.0031380478693546956)]\n"
     ]
    }
   ],
   "source": [
    "print(lsi[test_doc_bow])"
   ]
  },
  {
   "cell_type": "code",
   "execution_count": 53,
   "metadata": {},
   "outputs": [
    {
     "name": "stdout",
     "output_type": "stream",
     "text": [
      "[(72, 1), (318, 1)]\n"
     ]
    }
   ],
   "source": [
    "test_doc2 = 'Residence and Apartment'\n",
    "test_doc2 = custom_preprocess(test_doc2)\n",
    "test_doc_bow2 = property_dictionary.doc2bow(test_doc2)\n",
    "print(test_doc_bow2)"
   ]
  },
  {
   "cell_type": "code",
   "execution_count": 55,
   "metadata": {},
   "outputs": [
    {
     "name": "stdout",
     "output_type": "stream",
     "text": [
      "[(0, 0.09075839104801753), (1, 0.3261391227768734), (2, 0.05251005350112748), (3, -0.06255225369397448), (4, -0.14557969895480086), (5, -0.2806399589463415), (6, 0.08968427682694345), (7, -0.29577677842505756), (8, 0.24386352895445482), (9, 0.32987789530653105), (10, 0.16986871859286712), (11, -0.23615343304216135), (12, -0.14470623691025858), (13, -0.021259104967644923), (14, 0.023079037371162337), (15, 0.37744971281335454), (16, -0.12865565787732997), (17, -0.2746568597685839), (18, 0.11539883970073816), (19, -0.130457574412221)]\n"
     ]
    }
   ],
   "source": [
    "print(lsi[test_doc_bow2])\n"
   ]
  },
  {
   "cell_type": "code",
   "execution_count": 54,
   "metadata": {},
   "outputs": [
    {
     "data": {
      "text/plain": [
       "0.42210140185076217"
      ]
     },
     "execution_count": 54,
     "metadata": {},
     "output_type": "execute_result"
    }
   ],
   "source": [
    "from gensim.models import CoherenceModel\n",
    "lsi_cm=CoherenceModel(model=lsi,corpus=property_corpus,dictionary=property_dictionary,texts= property['property_text_en'],coherence='c_v')\n",
    "LSI_cm=lsi_cm.get_coherence()\n",
    "LSI_cm"
   ]
  },
  {
   "cell_type": "code",
   "execution_count": null,
   "metadata": {},
   "outputs": [],
   "source": []
  }
 ],
 "metadata": {
  "kernelspec": {
   "display_name": "Python 3",
   "language": "python",
   "name": "python3"
  },
  "language_info": {
   "codemirror_mode": {
    "name": "ipython",
    "version": 3
   },
   "file_extension": ".py",
   "mimetype": "text/x-python",
   "name": "python",
   "nbconvert_exporter": "python",
   "pygments_lexer": "ipython3",
   "version": "3.7.4"
  }
 },
 "nbformat": 4,
 "nbformat_minor": 2
}
